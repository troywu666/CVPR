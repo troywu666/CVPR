{
 "cells": [
  {
   "cell_type": "markdown",
   "metadata": {},
   "source": [
    "# 数据合并处理"
   ]
  },
  {
   "cell_type": "code",
   "execution_count": null,
   "metadata": {
    "ExecuteTime": {
     "end_time": "2019-07-20T04:41:51.516560Z",
     "start_time": "2019-07-20T04:41:51.225399Z"
    }
   },
   "outputs": [],
   "source": [
    "import pandas as pd\n",
    "import numpy as np\n",
    "import scipy as sp\n",
    "\n",
    "def read_csv_file(f, logging = False):\n",
    "    data = pd.read_csv(f)\n",
    "    if logging:\n",
    "        print(data.head())\n",
    "        print(data.columns.values)\n",
    "        print(data.describe())\n",
    "        print(data.info())\n",
    "    return data\n",
    "\n",
    "def categories_process_first_class(cate):\n",
    "    cate = str(cate)\n",
    "    return int(cate[0])\n",
    "        \n",
    "    \n",
    "def categories_process_second_class(cate):\n",
    "    cate = str(cate)\n",
    "    if len(cate) < 3:\n",
    "        return 0\n",
    "    else:\n",
    "        return int(cate[1:])\n",
    "    \n",
    "def age_process(age):\n",
    "    age = int(age)\n",
    "    if age == 0:\n",
    "        return 0\n",
    "    if age < 16:\n",
    "        return 1\n",
    "    if age < 23:\n",
    "        return 2\n",
    "    if age < 27:\n",
    "        return 3\n",
    "    else:\n",
    "        return 4\n",
    "\n",
    "def province_process(hometown):\n",
    "    hometown = str(hometown)\n",
    "    if len(hometown) == 1:\n",
    "        return 0\n",
    "    else:\n",
    "        return int(hometown[: -2])\n",
    "\n",
    "def city_process(hometown):\n",
    "    hometown = str(hometown)\n",
    "    if len(hometown) == 1:\n",
    "        return 0\n",
    "    else:\n",
    "        return int(hometown[-2: ])\n",
    "\n",
    "def get_time_day(t):\n",
    "    t = str(t)\n",
    "    t = int(t[0: 2])\n",
    "    return t\n",
    "\n",
    "def get_time_hour(t):\n",
    "    t = str(t)\n",
    "    t = int(t[2: 4])\n",
    "    if t < 6:\n",
    "        return 0\n",
    "    if t < 12:\n",
    "        return 1\n",
    "    if t < 18:\n",
    "        return 2\n",
    "    else:\n",
    "        return 3\n",
    "\n",
    "def get_time_min(t):\n",
    "    t = str(t)\n",
    "    t = int(t[4: ])\n",
    "    return t\n",
    "\n",
    "def logloss(act, pred):\n",
    "    epsilon = 1e-5\n",
    "    pred = sp.maximum(epsilon, pred)\n",
    "    pred = sp.minimum(1 - eplison, pred)\n",
    "    ll = sum(act * sp.log(pred) + sp.subtract(1, act) * sp.log(sp.subtract(1, pred)))\n",
    "    ll = ll * -1.0/len(act)\n",
    "    return ll"
   ]
  },
  {
   "cell_type": "code",
   "execution_count": null,
   "metadata": {
    "ExecuteTime": {
     "end_time": "2019-07-20T04:42:13.753697Z",
     "start_time": "2019-07-20T04:41:53.485325Z"
    }
   },
   "outputs": [],
   "source": [
    "from sklearn.preprocessing import Binarizer\n",
    "from sklearn.preprocessing import MinMaxScaler\n",
    "import pandas as pd\n",
    "import numpy as np\n",
    "\n",
    "print('test dataset')\n",
    "test_data = read_csv_file('./pre/test.csv', logging = True)\n",
    "print('================================================\\n')\n",
    "print('train dataset:')\n",
    "train_data = read_csv_file('./pre/train.csv', logging = True)\n",
    "print('================================================\\n')\n",
    "print('ad dataset')\n",
    "ad = read_csv_file('./pre/ad.csv', logging = True)\n",
    "print('================================================\\n')\n",
    "print('app dataset')\n",
    "app_categories = read_csv_file('./pre/app_categories.csv', logging = True)\n",
    "print('================================================\\n')\n",
    "print('user dataset')\n",
    "user = read_csv_file('./pre/user.csv', logging = True)\n",
    "print('================================================\\n')\n",
    "print('position dataset')\n",
    "position = read_csv_file('./pre/position.csv', logging= True)\n",
    "print('================================================\\n')\n",
    "print('user_app_actions dataset')\n",
    "user_app_actions = read_csv_file('./pre/user_app_actions.csv', logging = True)"
   ]
  },
  {
   "cell_type": "code",
   "execution_count": null,
   "metadata": {
    "ExecuteTime": {
     "end_time": "2019-07-15T16:29:28.911480Z",
     "start_time": "2019-07-15T16:27:44.188083Z"
    }
   },
   "outputs": [],
   "source": [
    "print('================================================\\n')\n",
    "print('user_installedapps dataset')\n",
    "user_installedapps = read_csv_file('./pre/user_installedapps.csv', logging = False)"
   ]
  },
  {
   "cell_type": "code",
   "execution_count": null,
   "metadata": {
    "ExecuteTime": {
     "end_time": "2019-07-16T07:51:33.341968Z",
     "start_time": "2019-07-16T07:51:33.092801Z"
    }
   },
   "outputs": [],
   "source": [
    "train = train_data.drop(['label', 'conversionTime'], axis = 1)\n",
    "test = test_data.drop(['label', 'instanceID'], axis = 1)\n",
    "data = pd.concat((train, test), axis = 0)"
   ]
  },
  {
   "cell_type": "code",
   "execution_count": null,
   "metadata": {
    "ExecuteTime": {
     "end_time": "2019-07-16T07:51:33.580087Z",
     "start_time": "2019-07-16T07:51:33.573082Z"
    }
   },
   "outputs": [],
   "source": [
    "print(data.shape)\n",
    "print(train.shape)\n",
    "print(test.shape)"
   ]
  },
  {
   "cell_type": "code",
   "execution_count": null,
   "metadata": {
    "ExecuteTime": {
     "end_time": "2019-07-16T07:09:35.620674Z",
     "start_time": "2019-07-16T07:09:35.124932Z"
    }
   },
   "outputs": [],
   "source": [
    "data.isnull().sum()"
   ]
  },
  {
   "cell_type": "code",
   "execution_count": null,
   "metadata": {
    "ExecuteTime": {
     "end_time": "2019-07-16T07:51:34.702303Z",
     "start_time": "2019-07-16T07:51:33.856270Z"
    }
   },
   "outputs": [],
   "source": [
    "data_ad = data.merge(ad, on = 'creativeID', how = 'left')\n",
    "data_ad.shape"
   ]
  },
  {
   "cell_type": "code",
   "execution_count": null,
   "metadata": {
    "ExecuteTime": {
     "end_time": "2019-07-16T07:51:55.975924Z",
     "start_time": "2019-07-16T07:51:35.007991Z"
    }
   },
   "outputs": [],
   "source": [
    "data_ad['click_day'] = data_ad['clickTime'].apply(get_time_day)\n",
    "data_ad['click_min'] = data_ad['clickTime'].apply(get_time_min)\n",
    "data_ad['click_hour'] = data_ad['clickTime'].apply(get_time_hour)\n",
    "data_ad.drop(['clickTime'], inplace = True, axis = 1)\n",
    "data_ad.tail()"
   ]
  },
  {
   "cell_type": "code",
   "execution_count": null,
   "metadata": {
    "ExecuteTime": {
     "end_time": "2019-07-16T07:53:25.706977Z",
     "start_time": "2019-07-16T07:51:56.296906Z"
    }
   },
   "outputs": [],
   "source": [
    "data_ad_app = data_ad.merge(app_categories, on = 'appID', how = 'left')\n",
    "data_ad_app['app_first_categories'] = data_ad_app['appCategory'].apply(categories_process_first_class)\n",
    "data_ad_app['app_second_categories'] = data_ad_app['appCategory'].apply(categories_process_second_class)\n",
    "data_ad_app.drop(['appCategory'], axis = 1, inplace = True)"
   ]
  },
  {
   "cell_type": "code",
   "execution_count": null,
   "metadata": {
    "ExecuteTime": {
     "end_time": "2019-07-16T08:11:34.159156Z",
     "start_time": "2019-07-16T08:11:28.145840Z"
    }
   },
   "outputs": [],
   "source": [
    "data_ad_app_user = data_ad_app.merge(user, on = 'userID', how = 'left')"
   ]
  },
  {
   "cell_type": "code",
   "execution_count": null,
   "metadata": {
    "ExecuteTime": {
     "end_time": "2019-07-16T08:06:49.040377Z",
     "start_time": "2019-07-16T08:06:47.269246Z"
    },
    "scrolled": true
   },
   "outputs": [],
   "source": [
    "##test数据集的age数据缺失较多\n",
    "data_ad_app_user['age'].describe()"
   ]
  },
  {
   "cell_type": "code",
   "execution_count": null,
   "metadata": {
    "ExecuteTime": {
     "start_time": "2019-07-16T08:16:00.684Z"
    }
   },
   "outputs": [],
   "source": [
    "data_ad_app_user['age'].replace(0.0, data_ad_app_user['age'][data_ad_app_user['age'] != 0.0].mean(), inplace = True)"
   ]
  },
  {
   "cell_type": "code",
   "execution_count": null,
   "metadata": {
    "ExecuteTime": {
     "start_time": "2019-07-16T08:16:45.999Z"
    }
   },
   "outputs": [],
   "source": [
    "data_ad_app_user['age'].fillna(data_ad_app_user['age'][data_ad_app_user['age'] != 0.0].mean(), inplace = True)\n",
    "data_ad_app_user['age'].isnull().sum()"
   ]
  },
  {
   "cell_type": "code",
   "execution_count": null,
   "metadata": {
    "ExecuteTime": {
     "end_time": "2019-07-16T08:18:56.349791Z",
     "start_time": "2019-07-16T08:18:51.732456Z"
    }
   },
   "outputs": [],
   "source": [
    "data_ad_app_user['age'] = data_ad_app_user['age'].apply(age_process)"
   ]
  },
  {
   "cell_type": "code",
   "execution_count": null,
   "metadata": {
    "ExecuteTime": {
     "end_time": "2019-07-16T08:46:17.681115Z",
     "start_time": "2019-07-16T08:46:02.693179Z"
    }
   },
   "outputs": [],
   "source": [
    "data_ad_app_user['residence_province'] = data_ad_app_user['residence'].apply(province_process)\n",
    "data_ad_app_user['residence_city'] = data_ad_app_user['residence'].apply(city_process)\n",
    "data_ad_app_user.drop(['residence'], inplace = True, axis = 1)\n",
    "data_ad_app_user.tail()"
   ]
  },
  {
   "cell_type": "code",
   "execution_count": null,
   "metadata": {
    "ExecuteTime": {
     "end_time": "2019-07-16T08:53:24.371145Z",
     "start_time": "2019-07-16T08:53:22.227859Z"
    }
   },
   "outputs": [],
   "source": [
    "data_ad_app_user_position = data_ad_app_user.merge(position, on = 'positionID', how = 'left')"
   ]
  },
  {
   "cell_type": "code",
   "execution_count": null,
   "metadata": {
    "ExecuteTime": {
     "end_time": "2019-07-16T14:10:12.249029Z",
     "start_time": "2019-07-16T14:08:27.205793Z"
    }
   },
   "outputs": [],
   "source": [
    "x_train = data_ad_app_user_position[: 3749528]\n",
    "y_train = train_data['label']\n",
    "test = data_ad_app_user_position[3749528: ]"
   ]
  },
  {
   "cell_type": "code",
   "execution_count": null,
   "metadata": {
    "ExecuteTime": {
     "start_time": "2019-07-16T14:42:53.253Z"
    }
   },
   "outputs": [],
   "source": [
    "import pickle\n",
    "with open('values.pkl', 'wb') as f:\n",
    "    pickle.dump(x_train, f)\n",
    "    pickle.dump(y_train, f)\n",
    "    pickle.dump(test, f)"
   ]
  },
  {
   "cell_type": "markdown",
   "metadata": {},
   "source": [
    "# 数据建模"
   ]
  },
  {
   "cell_type": "markdown",
   "metadata": {},
   "source": [
    "## 导入数据"
   ]
  },
  {
   "cell_type": "code",
   "execution_count": null,
   "metadata": {
    "ExecuteTime": {
     "end_time": "2019-07-17T07:37:21.500552Z",
     "start_time": "2019-07-17T07:36:36.888416Z"
    }
   },
   "outputs": [],
   "source": [
    "import pickle\n",
    "with open('values.pkl', 'rb') as f:\n",
    "    x_train = pickle.load(f)\n",
    "    y_train = pickle.load(f)\n",
    "    test = pickle.load(f) "
   ]
  },
  {
   "cell_type": "code",
   "execution_count": null,
   "metadata": {
    "ExecuteTime": {
     "end_time": "2019-07-17T07:34:29.428323Z",
     "start_time": "2019-07-17T07:34:29.334260Z"
    }
   },
   "outputs": [],
   "source": [
    "y_train.value_counts()\n",
    "##正负样本非常不均衡，但由于过采样后数据量过大，电脑内存有限，使用欠采样的方法"
   ]
  },
  {
   "cell_type": "markdown",
   "metadata": {},
   "source": [
    "## 过采样后存储数据"
   ]
  },
  {
   "cell_type": "code",
   "execution_count": null,
   "metadata": {
    "ExecuteTime": {
     "end_time": "2019-07-17T10:30:45.527075Z",
     "start_time": "2019-07-17T10:03:37.252671Z"
    }
   },
   "outputs": [],
   "source": [
    "from imblearn.over_sampling import ADASYN\n",
    "\n",
    "x_train_oversam, y_train_oversam = ADASYN().fit_sample(x_train, y_train)"
   ]
  },
  {
   "cell_type": "code",
   "execution_count": null,
   "metadata": {
    "ExecuteTime": {
     "end_time": "2019-07-17T11:19:47.926456Z",
     "start_time": "2019-07-17T11:09:15.312867Z"
    }
   },
   "outputs": [],
   "source": [
    "import pickle\n",
    "with open('values_resam.pkl', 'wb') as f:\n",
    "    pickle.dump(x_train_oversam, f)\n",
    "    pickle.dump(y_train_oversam, f)   "
   ]
  },
  {
   "cell_type": "code",
   "execution_count": null,
   "metadata": {
    "ExecuteTime": {
     "end_time": "2019-07-17T11:49:48.356254Z",
     "start_time": "2019-07-17T11:49:48.305029Z"
    }
   },
   "outputs": [],
   "source": [
    "print(x_train_oversam.shape)\n",
    "print(y_train_oversam.shape)"
   ]
  },
  {
   "cell_type": "code",
   "execution_count": null,
   "metadata": {
    "ExecuteTime": {
     "start_time": "2019-07-17T13:58:17.512Z"
    }
   },
   "outputs": [],
   "source": [
    "## EasyEnsemble\n",
    "'''\n",
    "from imblearn.ensemble import BalancedBaggingClassifier\n",
    "from sklearn.tree import DecisionTreeClassifier\n",
    "from sklearn.model_selection import KFold\n",
    "\n",
    "bbc = BalancedBaggingClassifier(\n",
    "    base_estimator = DecisionTreeClassifier(),\n",
    "    ratio = 'auto',\n",
    "    replacement = False,\n",
    "    random_state = 100,\n",
    "    n_jobs = -1\n",
    ")\n",
    "\n",
    "kf = KFold(n_splits = 5)\n",
    "for train_index, val_index in kf.split(x_train, y_train):\n",
    "    X_train,Y_train = x_train[train_index, : ], y_train[train_index]\n",
    "    X_val, Y_val = x_train[val_index, : ], y_train[val_index]\n",
    "    bbc.fit(X_train, Y_train)\n",
    "    pred_bbc = bbc.predict_proba(X_val)\n",
    "    print(pred_bbc)\n",
    "    print('The logloss is ', logloss(Y_val, pred_bbc))\n",
    "'''"
   ]
  },
  {
   "cell_type": "markdown",
   "metadata": {},
   "source": [
    "## 欠采样并存储数据"
   ]
  },
  {
   "cell_type": "code",
   "execution_count": null,
   "metadata": {
    "ExecuteTime": {
     "end_time": "2019-07-20T02:25:56.774400Z",
     "start_time": "2019-07-20T02:25:33.669309Z"
    },
    "scrolled": true
   },
   "outputs": [],
   "source": [
    "import numpy as np\n",
    "import pickle\n",
    "from imblearn.under_sampling import RandomUnderSampler\n",
    "from sklearn.svm import SVC\n",
    "\n",
    "with open('values.pkl', 'rb') as f:\n",
    "    x_train = pickle.load(f)\n",
    "    y_train = pickle.load(f)\n",
    "    test = pickle.load(f)\n",
    "    \n",
    "x_train = np.array(x_train)\n",
    "y_train = np.array(y_train)\n",
    "test = np.array(test)\n",
    "\n",
    "bc = RandomUnderSampler(random_state = 100)\n",
    "x_train_resam, y_train_resam = bc.fit_sample(x_train, y_train)\n",
    "\n",
    "with open('values_undersampling.pkl', 'wb') as f:\n",
    "    pickle.dump(x_train_resam, f)\n",
    "    pickle.dump(y_train_resam, f)\n",
    "    pickle.dump(test, f)"
   ]
  },
  {
   "cell_type": "markdown",
   "metadata": {},
   "source": [
    "## 载入数据"
   ]
  },
  {
   "cell_type": "code",
   "execution_count": 1,
   "metadata": {
    "ExecuteTime": {
     "end_time": "2019-07-20T06:59:28.438748Z",
     "start_time": "2019-07-20T06:59:26.404526Z"
    }
   },
   "outputs": [],
   "source": [
    "import pickle\n",
    "\n",
    "with open('values_undersampling.pkl', 'rb') as f:\n",
    "    x_train_resam = pickle.load(f)\n",
    "    y_train_resam = pickle.load(f)\n",
    "    test = pickle.load(f)"
   ]
  },
  {
   "cell_type": "markdown",
   "metadata": {},
   "source": [
    "### Xgbosst"
   ]
  },
  {
   "cell_type": "markdown",
   "metadata": {},
   "source": [
    "#### 用sklearn API"
   ]
  },
  {
   "cell_type": "code",
   "execution_count": null,
   "metadata": {
    "ExecuteTime": {
     "start_time": "2019-07-20T02:31:05.567Z"
    }
   },
   "outputs": [],
   "source": [
    "import xgboost as xgb\n",
    "from sklearn.model_selection import GridSearchCV\n",
    "import numpy as np\n",
    "\n",
    "param_grid = {\n",
    "    'max_depth': [3, 4, 5, 8, 10],\n",
    "    'n_estimators': [50, 100, 200, 400, 600, 800, 1000],\n",
    "    'laerning_rate': [0.1, 0.2, 0.3],\n",
    "    'gamma': [0, 0.2],\n",
    "    'subsample': [0.8, 1],\n",
    "             }\n",
    "\n",
    "xgb_model = xgb.XGBClassifier()\n",
    "rgs = GridSearchCV(xgb_model, param_grid, n_jobs = -1, cv = 5)\n",
    "rgs.fit(x_train_resam, y_train_resam)\n",
    "print(rgs.best_score_)\n",
    "print(rgs.best_params_)\n",
    "pred = rgs.predict_proba(test)\n",
    "print('The logloss is ', logloss(Y_val, pred_bbc))"
   ]
  },
  {
   "cell_type": "markdown",
   "metadata": {},
   "source": [
    "#### 用Python API"
   ]
  },
  {
   "cell_type": "code",
   "execution_count": 3,
   "metadata": {
    "ExecuteTime": {
     "end_time": "2019-07-20T07:17:46.659329Z",
     "start_time": "2019-07-20T07:06:30.687367Z"
    }
   },
   "outputs": [
    {
     "name": "stdout",
     "output_type": "stream",
     "text": [
      "[0]\ttrain-logloss:0.662994+0.000289113\ttest-logloss:0.663231+0.000402351\n",
      "[1]\ttrain-logloss:0.642744+0.000555967\ttest-logloss:0.643205+0.000724138\n",
      "[2]\ttrain-logloss:0.627459+0.000494531\ttest-logloss:0.628052+0.00126858\n",
      "[3]\ttrain-logloss:0.616709+0.00055443\ttest-logloss:0.617552+0.00132264\n",
      "[4]\ttrain-logloss:0.608691+0.000874165\ttest-logloss:0.609752+0.00144459\n",
      "[5]\ttrain-logloss:0.601819+0.00074481\ttest-logloss:0.60304+0.00185067\n",
      "[6]\ttrain-logloss:0.597109+0.000931505\ttest-logloss:0.59856+0.0020078\n",
      "[7]\ttrain-logloss:0.592709+0.000790944\ttest-logloss:0.594419+0.00180797\n",
      "[8]\ttrain-logloss:0.589358+0.00110724\ttest-logloss:0.591284+0.00203231\n",
      "[9]\ttrain-logloss:0.5871+0.000944274\ttest-logloss:0.589226+0.00227144\n",
      "[10]\ttrain-logloss:0.584939+0.000879835\ttest-logloss:0.587297+0.00233238\n",
      "[11]\ttrain-logloss:0.582778+0.000867472\ttest-logloss:0.585386+0.00292344\n",
      "[12]\ttrain-logloss:0.579652+0.00132008\ttest-logloss:0.582572+0.00314231\n",
      "[13]\ttrain-logloss:0.57792+0.000460898\ttest-logloss:0.581054+0.00242743\n",
      "[14]\ttrain-logloss:0.575249+0.00130929\ttest-logloss:0.578709+0.00263307\n",
      "[15]\ttrain-logloss:0.573893+0.00100216\ttest-logloss:0.577521+0.00291013\n",
      "[16]\ttrain-logloss:0.571898+0.000964489\ttest-logloss:0.575844+0.00215528\n",
      "[17]\ttrain-logloss:0.570597+0.00134413\ttest-logloss:0.574809+0.00218816\n",
      "[18]\ttrain-logloss:0.569397+0.00142023\ttest-logloss:0.573798+0.00226319\n",
      "[19]\ttrain-logloss:0.568462+0.00166533\ttest-logloss:0.573103+0.0022861\n",
      "[20]\ttrain-logloss:0.566938+0.00130899\ttest-logloss:0.571859+0.00187327\n",
      "[21]\ttrain-logloss:0.565708+0.00163053\ttest-logloss:0.570898+0.00142252\n",
      "[22]\ttrain-logloss:0.564923+0.0013034\ttest-logloss:0.570331+0.00153182\n",
      "[23]\ttrain-logloss:0.56411+0.00136949\ttest-logloss:0.569676+0.00159584\n",
      "[24]\ttrain-logloss:0.563019+0.00111855\ttest-logloss:0.568782+0.00180292\n",
      "[25]\ttrain-logloss:0.56212+0.00126108\ttest-logloss:0.568235+0.00175476\n",
      "[26]\ttrain-logloss:0.561252+0.00156428\ttest-logloss:0.567665+0.00170046\n",
      "[27]\ttrain-logloss:0.560471+0.00162688\ttest-logloss:0.567085+0.00163778\n",
      "[28]\ttrain-logloss:0.559649+0.00152132\ttest-logloss:0.566499+0.00174874\n",
      "[29]\ttrain-logloss:0.558766+0.00160702\ttest-logloss:0.565922+0.00168387\n",
      "[30]\ttrain-logloss:0.558185+0.0016477\ttest-logloss:0.565552+0.00158551\n",
      "[31]\ttrain-logloss:0.557512+0.00146952\ttest-logloss:0.565129+0.00167891\n",
      "[32]\ttrain-logloss:0.55681+0.00147791\ttest-logloss:0.564677+0.00177886\n",
      "[33]\ttrain-logloss:0.55626+0.00162026\ttest-logloss:0.564313+0.00183982\n",
      "[34]\ttrain-logloss:0.555456+0.00177699\ttest-logloss:0.563914+0.00175133\n",
      "[35]\ttrain-logloss:0.554828+0.00164667\ttest-logloss:0.563526+0.00170123\n",
      "[36]\ttrain-logloss:0.554272+0.00148458\ttest-logloss:0.563221+0.00182804\n",
      "[37]\ttrain-logloss:0.553657+0.00169499\ttest-logloss:0.562869+0.00181174\n",
      "[38]\ttrain-logloss:0.553354+0.00169059\ttest-logloss:0.562736+0.00181524\n",
      "[39]\ttrain-logloss:0.552711+0.00161592\ttest-logloss:0.562319+0.00173612\n",
      "[40]\ttrain-logloss:0.552088+0.00155064\ttest-logloss:0.56192+0.00177\n",
      "[41]\ttrain-logloss:0.551629+0.00171631\ttest-logloss:0.561744+0.00174948\n",
      "[42]\ttrain-logloss:0.551034+0.00155785\ttest-logloss:0.561328+0.00181416\n",
      "[43]\ttrain-logloss:0.550609+0.00169328\ttest-logloss:0.561099+0.00180529\n",
      "[44]\ttrain-logloss:0.550011+0.0015948\ttest-logloss:0.560849+0.00189693\n",
      "[45]\ttrain-logloss:0.54971+0.0016358\ttest-logloss:0.560743+0.00192373\n",
      "[46]\ttrain-logloss:0.548996+0.0016497\ttest-logloss:0.560308+0.00168205\n",
      "[47]\ttrain-logloss:0.548666+0.00166147\ttest-logloss:0.560214+0.00171388\n",
      "[48]\ttrain-logloss:0.548064+0.0016788\ttest-logloss:0.559822+0.00192696\n",
      "[49]\ttrain-logloss:0.547547+0.00178958\ttest-logloss:0.559567+0.00181627\n",
      "[50]\ttrain-logloss:0.54729+0.00178729\ttest-logloss:0.559485+0.0018127\n",
      "[51]\ttrain-logloss:0.546764+0.0017393\ttest-logloss:0.559269+0.00187269\n",
      "[52]\ttrain-logloss:0.546302+0.00173292\ttest-logloss:0.559027+0.00192912\n",
      "[53]\ttrain-logloss:0.545998+0.00160115\ttest-logloss:0.558875+0.00200495\n",
      "[54]\ttrain-logloss:0.545452+0.0017489\ttest-logloss:0.558596+0.00195518\n",
      "[55]\ttrain-logloss:0.545044+0.00173004\ttest-logloss:0.558423+0.00195223\n",
      "[56]\ttrain-logloss:0.544681+0.00165622\ttest-logloss:0.558225+0.00205389\n",
      "[57]\ttrain-logloss:0.544421+0.00165454\ttest-logloss:0.55815+0.00211222\n",
      "[58]\ttrain-logloss:0.544152+0.00158727\ttest-logloss:0.558038+0.00216332\n",
      "[59]\ttrain-logloss:0.543873+0.00160638\ttest-logloss:0.557897+0.00205432\n",
      "[60]\ttrain-logloss:0.543447+0.00151494\ttest-logloss:0.557711+0.00209811\n",
      "[61]\ttrain-logloss:0.543165+0.00148475\ttest-logloss:0.557658+0.00205032\n",
      "[62]\ttrain-logloss:0.542835+0.00162761\ttest-logloss:0.557468+0.00187934\n",
      "[63]\ttrain-logloss:0.542395+0.00177291\ttest-logloss:0.55724+0.00171913\n",
      "[64]\ttrain-logloss:0.541959+0.00175134\ttest-logloss:0.557084+0.00175997\n",
      "[65]\ttrain-logloss:0.541574+0.00155572\ttest-logloss:0.556821+0.00194872\n",
      "[66]\ttrain-logloss:0.541149+0.0015247\ttest-logloss:0.556722+0.00192088\n",
      "[67]\ttrain-logloss:0.540918+0.00138372\ttest-logloss:0.556642+0.00201317\n",
      "[68]\ttrain-logloss:0.540646+0.0013584\ttest-logloss:0.556575+0.00209361\n",
      "[69]\ttrain-logloss:0.540295+0.00116362\ttest-logloss:0.556393+0.00208937\n",
      "[70]\ttrain-logloss:0.53985+0.00126517\ttest-logloss:0.556304+0.00200346\n",
      "[71]\ttrain-logloss:0.53961+0.00123099\ttest-logloss:0.556296+0.00200393\n",
      "[72]\ttrain-logloss:0.53923+0.00126305\ttest-logloss:0.556191+0.00198489\n",
      "[73]\ttrain-logloss:0.538804+0.00121183\ttest-logloss:0.556001+0.001959\n",
      "[74]\ttrain-logloss:0.538444+0.0011228\ttest-logloss:0.555937+0.00198824\n",
      "[75]\ttrain-logloss:0.538185+0.00114146\ttest-logloss:0.555911+0.0019795\n",
      "[76]\ttrain-logloss:0.537914+0.00126571\ttest-logloss:0.555825+0.00194567\n",
      "[77]\ttrain-logloss:0.537564+0.00140116\ttest-logloss:0.555684+0.00189054\n",
      "[78]\ttrain-logloss:0.537242+0.0014737\ttest-logloss:0.555617+0.00188209\n",
      "[79]\ttrain-logloss:0.536984+0.00135462\ttest-logloss:0.555529+0.00191261\n",
      "[80]\ttrain-logloss:0.536697+0.00115937\ttest-logloss:0.555403+0.0020459\n",
      "[81]\ttrain-logloss:0.536364+0.00122311\ttest-logloss:0.555375+0.00203912\n",
      "[82]\ttrain-logloss:0.536105+0.00130346\ttest-logloss:0.555377+0.00202255\n",
      "[83]\ttrain-logloss:0.53585+0.00127468\ttest-logloss:0.555303+0.00207924\n",
      "[84]\ttrain-logloss:0.535585+0.00122035\ttest-logloss:0.555164+0.00209244\n",
      "[85]\ttrain-logloss:0.535393+0.00120433\ttest-logloss:0.555137+0.00211798\n",
      "[86]\ttrain-logloss:0.535075+0.00123144\ttest-logloss:0.555041+0.00207552\n",
      "[87]\ttrain-logloss:0.534821+0.00118149\ttest-logloss:0.555008+0.00213296\n",
      "[88]\ttrain-logloss:0.534444+0.00113293\ttest-logloss:0.554901+0.00218887\n",
      "[89]\ttrain-logloss:0.534042+0.00110239\ttest-logloss:0.554737+0.00216004\n",
      "[90]\ttrain-logloss:0.53373+0.00121638\ttest-logloss:0.554642+0.00211709\n",
      "[91]\ttrain-logloss:0.533538+0.00120731\ttest-logloss:0.554551+0.00211857\n",
      "[92]\ttrain-logloss:0.533297+0.00123772\ttest-logloss:0.554498+0.00213348\n",
      "[93]\ttrain-logloss:0.532901+0.00121115\ttest-logloss:0.554433+0.0021197\n",
      "[94]\ttrain-logloss:0.532644+0.00135288\ttest-logloss:0.554393+0.00210195\n",
      "[95]\ttrain-logloss:0.532364+0.00140734\ttest-logloss:0.554352+0.0020719\n",
      "[96]\ttrain-logloss:0.532062+0.00145697\ttest-logloss:0.554301+0.0020363\n",
      "[97]\ttrain-logloss:0.531707+0.00132988\ttest-logloss:0.554208+0.00201464\n",
      "[98]\ttrain-logloss:0.531423+0.0013573\ttest-logloss:0.554142+0.00197637\n",
      "[99]\ttrain-logloss:0.531275+0.00128513\ttest-logloss:0.554117+0.00200677\n",
      "[100]\ttrain-logloss:0.531066+0.00129544\ttest-logloss:0.554028+0.00196798\n",
      "[101]\ttrain-logloss:0.530795+0.00123936\ttest-logloss:0.553983+0.00195104\n",
      "[102]\ttrain-logloss:0.530531+0.00131464\ttest-logloss:0.55397+0.00189403\n",
      "[103]\ttrain-logloss:0.530378+0.00129484\ttest-logloss:0.553974+0.00189388\n",
      "[104]\ttrain-logloss:0.530059+0.00135718\ttest-logloss:0.553876+0.00183853\n",
      "[105]\ttrain-logloss:0.529909+0.00138507\ttest-logloss:0.55388+0.0018315\n",
      "[106]\ttrain-logloss:0.529758+0.00134538\ttest-logloss:0.553841+0.00185252\n",
      "[107]\ttrain-logloss:0.529502+0.00140855\ttest-logloss:0.553808+0.0018114\n",
      "[108]\ttrain-logloss:0.529173+0.00138006\ttest-logloss:0.553698+0.00188559\n",
      "[109]\ttrain-logloss:0.5288+0.00144036\ttest-logloss:0.553591+0.00183763\n",
      "[110]\ttrain-logloss:0.52854+0.00150683\ttest-logloss:0.553539+0.0018482\n",
      "[111]\ttrain-logloss:0.528292+0.0015734\ttest-logloss:0.55356+0.00186629\n",
      "[112]\ttrain-logloss:0.527956+0.00148691\ttest-logloss:0.553447+0.00192854\n",
      "[113]\ttrain-logloss:0.52765+0.00146097\ttest-logloss:0.553426+0.00191924\n",
      "[114]\ttrain-logloss:0.52736+0.00141125\ttest-logloss:0.553421+0.00192032\n"
     ]
    },
    {
     "name": "stdout",
     "output_type": "stream",
     "text": [
      "[115]\ttrain-logloss:0.527062+0.00137147\ttest-logloss:0.553303+0.00195657\n",
      "[116]\ttrain-logloss:0.526818+0.0013113\ttest-logloss:0.553317+0.0019283\n",
      "[117]\ttrain-logloss:0.526549+0.00129633\ttest-logloss:0.553288+0.00194048\n",
      "[118]\ttrain-logloss:0.526387+0.00131524\ttest-logloss:0.5533+0.00192613\n",
      "[119]\ttrain-logloss:0.526132+0.00128433\ttest-logloss:0.553248+0.0019128\n",
      "[120]\ttrain-logloss:0.525889+0.00137856\ttest-logloss:0.553256+0.00192598\n",
      "[121]\ttrain-logloss:0.525728+0.00146693\ttest-logloss:0.553213+0.00190001\n",
      "[122]\ttrain-logloss:0.525475+0.00139006\ttest-logloss:0.55317+0.00191421\n",
      "[123]\ttrain-logloss:0.525189+0.00131317\ttest-logloss:0.553091+0.0019354\n",
      "[124]\ttrain-logloss:0.52488+0.00126585\ttest-logloss:0.553097+0.00194123\n",
      "[125]\ttrain-logloss:0.524623+0.00136907\ttest-logloss:0.553071+0.00194326\n",
      "[126]\ttrain-logloss:0.52435+0.00133443\ttest-logloss:0.553005+0.00197181\n",
      "[127]\ttrain-logloss:0.524021+0.00133208\ttest-logloss:0.552947+0.00195158\n",
      "[128]\ttrain-logloss:0.523722+0.00134036\ttest-logloss:0.552855+0.0019381\n",
      "[129]\ttrain-logloss:0.523475+0.00134147\ttest-logloss:0.55282+0.00196194\n",
      "[130]\ttrain-logloss:0.523247+0.00131026\ttest-logloss:0.552756+0.00200165\n",
      "[131]\ttrain-logloss:0.522958+0.00129042\ttest-logloss:0.552714+0.0020216\n",
      "[132]\ttrain-logloss:0.522664+0.0012275\ttest-logloss:0.552717+0.00201904\n",
      "[133]\ttrain-logloss:0.522472+0.00114165\ttest-logloss:0.552688+0.00204821\n",
      "[134]\ttrain-logloss:0.522186+0.00114509\ttest-logloss:0.552598+0.00212675\n",
      "[135]\ttrain-logloss:0.521888+0.00111597\ttest-logloss:0.552566+0.00216518\n",
      "[136]\ttrain-logloss:0.521673+0.00114764\ttest-logloss:0.552575+0.00211884\n",
      "[137]\ttrain-logloss:0.521439+0.00106339\ttest-logloss:0.55251+0.00213621\n",
      "[138]\ttrain-logloss:0.521223+0.00102361\ttest-logloss:0.552497+0.00217237\n",
      "[139]\ttrain-logloss:0.520902+0.00105519\ttest-logloss:0.552468+0.00214401\n",
      "[140]\ttrain-logloss:0.520604+0.0010373\ttest-logloss:0.552402+0.00216072\n",
      "[141]\ttrain-logloss:0.520439+0.00112168\ttest-logloss:0.552425+0.00218177\n",
      "[142]\ttrain-logloss:0.520163+0.00110039\ttest-logloss:0.552369+0.00214656\n",
      "[143]\ttrain-logloss:0.519929+0.00109398\ttest-logloss:0.552414+0.00211445\n",
      "[144]\ttrain-logloss:0.519702+0.00110233\ttest-logloss:0.552411+0.0021053\n",
      "[145]\ttrain-logloss:0.519521+0.00105961\ttest-logloss:0.552401+0.00209883\n",
      "[146]\ttrain-logloss:0.519285+0.00104411\ttest-logloss:0.552394+0.0020583\n",
      "[147]\ttrain-logloss:0.519063+0.000981997\ttest-logloss:0.552343+0.00210166\n",
      "[148]\ttrain-logloss:0.518838+0.000922029\ttest-logloss:0.552292+0.00211845\n",
      "[149]\ttrain-logloss:0.518678+0.000890001\ttest-logloss:0.552302+0.00208779\n",
      "[150]\ttrain-logloss:0.518483+0.000948414\ttest-logloss:0.55227+0.00209569\n",
      "[151]\ttrain-logloss:0.518305+0.000988219\ttest-logloss:0.552287+0.00208677\n",
      "[152]\ttrain-logloss:0.518086+0.000897568\ttest-logloss:0.552273+0.00208767\n",
      "[153]\ttrain-logloss:0.517896+0.000823163\ttest-logloss:0.552228+0.00213297\n",
      "[154]\ttrain-logloss:0.517603+0.000878234\ttest-logloss:0.552181+0.00208243\n",
      "[155]\ttrain-logloss:0.517444+0.000900196\ttest-logloss:0.552163+0.0020728\n",
      "[156]\ttrain-logloss:0.517255+0.000924602\ttest-logloss:0.552167+0.00208475\n",
      "[157]\ttrain-logloss:0.516982+0.00093634\ttest-logloss:0.552153+0.00207635\n",
      "[158]\ttrain-logloss:0.516797+0.000946226\ttest-logloss:0.552126+0.00209119\n",
      "[159]\ttrain-logloss:0.51656+0.000975077\ttest-logloss:0.552122+0.0020728\n",
      "[160]\ttrain-logloss:0.516326+0.000904023\ttest-logloss:0.552139+0.00209424\n",
      "[161]\ttrain-logloss:0.516028+0.000823511\ttest-logloss:0.552085+0.00215167\n",
      "[162]\ttrain-logloss:0.515782+0.000809877\ttest-logloss:0.552076+0.0021481\n",
      "[163]\ttrain-logloss:0.515574+0.000759157\ttest-logloss:0.552066+0.0021695\n",
      "[164]\ttrain-logloss:0.515379+0.000774734\ttest-logloss:0.552061+0.00216044\n",
      "[165]\ttrain-logloss:0.5152+0.000814889\ttest-logloss:0.552075+0.00215456\n",
      "[166]\ttrain-logloss:0.515034+0.00090044\ttest-logloss:0.552065+0.00214424\n",
      "[167]\ttrain-logloss:0.51479+0.000909043\ttest-logloss:0.552072+0.00213783\n",
      "[168]\ttrain-logloss:0.514584+0.000988127\ttest-logloss:0.552064+0.00212135\n",
      "[169]\ttrain-logloss:0.51436+0.000988252\ttest-logloss:0.552073+0.00210552\n",
      "[170]\ttrain-logloss:0.514178+0.00101371\ttest-logloss:0.552068+0.00208029\n",
      "[171]\ttrain-logloss:0.513901+0.00103277\ttest-logloss:0.552097+0.00205285\n",
      "[172]\ttrain-logloss:0.513671+0.00101103\ttest-logloss:0.552059+0.0020396\n",
      "[173]\ttrain-logloss:0.513418+0.000964553\ttest-logloss:0.552062+0.00205509\n",
      "[174]\ttrain-logloss:0.513158+0.000933509\ttest-logloss:0.552033+0.00207132\n",
      "[175]\ttrain-logloss:0.512885+0.00088249\ttest-logloss:0.552033+0.00207698\n",
      "[176]\ttrain-logloss:0.512695+0.000895729\ttest-logloss:0.552061+0.00206952\n",
      "[177]\ttrain-logloss:0.512562+0.000829654\ttest-logloss:0.552081+0.00205929\n",
      "[178]\ttrain-logloss:0.512357+0.000673306\ttest-logloss:0.551997+0.0021282\n",
      "[179]\ttrain-logloss:0.512112+0.000674563\ttest-logloss:0.551954+0.00215365\n",
      "[180]\ttrain-logloss:0.511927+0.00069031\ttest-logloss:0.55197+0.00214898\n",
      "[181]\ttrain-logloss:0.51176+0.000640696\ttest-logloss:0.551964+0.00218328\n",
      "[182]\ttrain-logloss:0.51157+0.000597338\ttest-logloss:0.551961+0.00220758\n",
      "[183]\ttrain-logloss:0.51129+0.000631773\ttest-logloss:0.551931+0.00227338\n",
      "[184]\ttrain-logloss:0.511028+0.000600092\ttest-logloss:0.551901+0.00233574\n",
      "[185]\ttrain-logloss:0.510881+0.000606267\ttest-logloss:0.551918+0.00235321\n",
      "[186]\ttrain-logloss:0.510595+0.000660573\ttest-logloss:0.551907+0.00233919\n",
      "[187]\ttrain-logloss:0.510347+0.000737835\ttest-logloss:0.551894+0.00231627\n",
      "[188]\ttrain-logloss:0.510137+0.000775389\ttest-logloss:0.551854+0.00227697\n",
      "[189]\ttrain-logloss:0.509948+0.000802125\ttest-logloss:0.551844+0.0022709\n",
      "[190]\ttrain-logloss:0.509683+0.00082\ttest-logloss:0.551883+0.0023062\n",
      "[191]\ttrain-logloss:0.509443+0.000816593\ttest-logloss:0.551872+0.00229713\n",
      "[192]\ttrain-logloss:0.509225+0.000875716\ttest-logloss:0.55189+0.00229255\n",
      "[193]\ttrain-logloss:0.509001+0.000889999\ttest-logloss:0.551866+0.00225589\n",
      "[194]\ttrain-logloss:0.50879+0.000861555\ttest-logloss:0.551828+0.0022447\n",
      "[195]\ttrain-logloss:0.508583+0.000840901\ttest-logloss:0.55182+0.00225491\n",
      "[196]\ttrain-logloss:0.508362+0.000880146\ttest-logloss:0.551838+0.0022378\n",
      "[197]\ttrain-logloss:0.508186+0.000896174\ttest-logloss:0.55184+0.00222268\n",
      "[198]\ttrain-logloss:0.508046+0.000930704\ttest-logloss:0.551832+0.00222333\n",
      "[199]\ttrain-logloss:0.507747+0.000888471\ttest-logloss:0.551795+0.00225543\n",
      "[200]\ttrain-logloss:0.507527+0.000881746\ttest-logloss:0.551782+0.00224942\n",
      "[201]\ttrain-logloss:0.507368+0.000940079\ttest-logloss:0.551805+0.00226328\n",
      "[202]\ttrain-logloss:0.507221+0.00102452\ttest-logloss:0.551819+0.00225354\n",
      "[203]\ttrain-logloss:0.507039+0.00103959\ttest-logloss:0.551811+0.00226093\n",
      "[204]\ttrain-logloss:0.506769+0.00102456\ttest-logloss:0.55179+0.00219081\n",
      "[205]\ttrain-logloss:0.506545+0.000953421\ttest-logloss:0.551778+0.00223343\n",
      "[206]\ttrain-logloss:0.506368+0.00090911\ttest-logloss:0.55181+0.00220252\n",
      "[207]\ttrain-logloss:0.50619+0.000845119\ttest-logloss:0.551835+0.00218126\n",
      "[208]\ttrain-logloss:0.505981+0.000974181\ttest-logloss:0.551833+0.00219502\n",
      "[209]\ttrain-logloss:0.505791+0.00101844\ttest-logloss:0.551855+0.002196\n",
      "[210]\ttrain-logloss:0.505632+0.00104012\ttest-logloss:0.551869+0.00221598\n",
      "[211]\ttrain-logloss:0.505367+0.00108409\ttest-logloss:0.551882+0.00220791\n",
      "[212]\ttrain-logloss:0.505133+0.00110055\ttest-logloss:0.551855+0.00219808\n",
      "[213]\ttrain-logloss:0.504955+0.00103383\ttest-logloss:0.551825+0.00220536\n",
      "[214]\ttrain-logloss:0.504756+0.00110539\ttest-logloss:0.551847+0.00222051\n",
      "[215]\ttrain-logloss:0.504519+0.00107008\ttest-logloss:0.551827+0.0022349\n",
      "[216]\ttrain-logloss:0.504286+0.00113513\ttest-logloss:0.551813+0.00220799\n",
      "[217]\ttrain-logloss:0.504053+0.00111732\ttest-logloss:0.551804+0.00221168\n",
      "[218]\ttrain-logloss:0.503968+0.00108507\ttest-logloss:0.551814+0.002234\n",
      "[219]\ttrain-logloss:0.503779+0.00106386\ttest-logloss:0.551827+0.00220148\n",
      "[220]\ttrain-logloss:0.503516+0.00101933\ttest-logloss:0.551797+0.00219732\n",
      "[221]\ttrain-logloss:0.503339+0.00107405\ttest-logloss:0.551782+0.00217868\n",
      "[222]\ttrain-logloss:0.503173+0.00107869\ttest-logloss:0.5518+0.00217346\n",
      "[223]\ttrain-logloss:0.502933+0.00103943\ttest-logloss:0.551789+0.00218594\n",
      "[224]\ttrain-logloss:0.502765+0.000972535\ttest-logloss:0.551783+0.00219134\n",
      "[225]\ttrain-logloss:0.502544+0.000975335\ttest-logloss:0.551788+0.00221554\n",
      "[226]\ttrain-logloss:0.502327+0.000912065\ttest-logloss:0.551773+0.00222525\n",
      "[227]\ttrain-logloss:0.502145+0.000915373\ttest-logloss:0.551789+0.00223742\n"
     ]
    },
    {
     "name": "stdout",
     "output_type": "stream",
     "text": [
      "[228]\ttrain-logloss:0.501996+0.000874475\ttest-logloss:0.551775+0.00224076\n",
      "[229]\ttrain-logloss:0.501867+0.00082819\ttest-logloss:0.551778+0.00224372\n",
      "[230]\ttrain-logloss:0.501593+0.00083106\ttest-logloss:0.551801+0.00223259\n",
      "[231]\ttrain-logloss:0.501397+0.000780539\ttest-logloss:0.551791+0.00229302\n",
      "[232]\ttrain-logloss:0.501154+0.000779219\ttest-logloss:0.551774+0.00231978\n",
      "[233]\ttrain-logloss:0.500952+0.000830103\ttest-logloss:0.551797+0.00233644\n",
      "[234]\ttrain-logloss:0.500762+0.000805606\ttest-logloss:0.551837+0.00233178\n",
      "[235]\ttrain-logloss:0.500554+0.00078577\ttest-logloss:0.551842+0.00231724\n",
      "[236]\ttrain-logloss:0.500344+0.000763132\ttest-logloss:0.551794+0.00234256\n",
      "[237]\ttrain-logloss:0.500162+0.000776637\ttest-logloss:0.551804+0.00229651\n",
      "[238]\ttrain-logloss:0.499994+0.000791717\ttest-logloss:0.551799+0.00229374\n",
      "[239]\ttrain-logloss:0.499846+0.000803244\ttest-logloss:0.551811+0.00228391\n",
      "[240]\ttrain-logloss:0.499634+0.000834049\ttest-logloss:0.551813+0.00227793\n",
      "[241]\ttrain-logloss:0.499409+0.000820167\ttest-logloss:0.551835+0.00228096\n",
      "[242]\ttrain-logloss:0.499178+0.000848318\ttest-logloss:0.551839+0.00227625\n",
      "[243]\ttrain-logloss:0.498967+0.000860635\ttest-logloss:0.55184+0.00228623\n",
      "[244]\ttrain-logloss:0.49877+0.000871758\ttest-logloss:0.551808+0.0023103\n",
      "[245]\ttrain-logloss:0.498519+0.000877961\ttest-logloss:0.551802+0.00234302\n",
      "[246]\ttrain-logloss:0.498289+0.000924425\ttest-logloss:0.551778+0.00237944\n",
      "[247]\ttrain-logloss:0.498158+0.000884488\ttest-logloss:0.551807+0.00236323\n",
      "[248]\ttrain-logloss:0.497937+0.000961588\ttest-logloss:0.551821+0.0023589\n",
      "[249]\ttrain-logloss:0.497743+0.00100207\ttest-logloss:0.551822+0.00234034\n",
      "[250]\ttrain-logloss:0.497551+0.00100818\ttest-logloss:0.551833+0.00232531\n",
      "[251]\ttrain-logloss:0.497342+0.00104545\ttest-logloss:0.551838+0.00234617\n",
      "[252]\ttrain-logloss:0.497143+0.00101888\ttest-logloss:0.55184+0.00235905\n",
      "[253]\ttrain-logloss:0.496914+0.000996971\ttest-logloss:0.551836+0.00239011\n",
      "[254]\ttrain-logloss:0.496688+0.000990769\ttest-logloss:0.551853+0.00237948\n",
      "[255]\ttrain-logloss:0.496518+0.000962477\ttest-logloss:0.551877+0.00240797\n",
      "[256]\ttrain-logloss:0.496389+0.000944606\ttest-logloss:0.551848+0.00240934\n",
      "[257]\ttrain-logloss:0.496236+0.000913801\ttest-logloss:0.55186+0.00243948\n",
      "[258]\ttrain-logloss:0.496035+0.000936737\ttest-logloss:0.551843+0.00245666\n",
      "[259]\ttrain-logloss:0.495748+0.000966035\ttest-logloss:0.551855+0.00244637\n",
      "[260]\ttrain-logloss:0.495569+0.000957326\ttest-logloss:0.551861+0.0024561\n",
      "[261]\ttrain-logloss:0.495365+0.000954379\ttest-logloss:0.551858+0.00246752\n",
      "[262]\ttrain-logloss:0.495186+0.000902846\ttest-logloss:0.551861+0.00245423\n",
      "[263]\ttrain-logloss:0.494949+0.000857295\ttest-logloss:0.551874+0.00244122\n",
      "[264]\ttrain-logloss:0.494767+0.00086317\ttest-logloss:0.551877+0.00245744\n",
      "[265]\ttrain-logloss:0.494642+0.000887304\ttest-logloss:0.551871+0.00245567\n",
      "[266]\ttrain-logloss:0.494551+0.000880431\ttest-logloss:0.551856+0.00243306\n",
      "[267]\ttrain-logloss:0.494328+0.000909943\ttest-logloss:0.551852+0.00242475\n",
      "[268]\ttrain-logloss:0.494096+0.000899867\ttest-logloss:0.55186+0.00241746\n",
      "[269]\ttrain-logloss:0.493921+0.00084616\ttest-logloss:0.551863+0.00241858\n",
      "[270]\ttrain-logloss:0.493747+0.000775251\ttest-logloss:0.55186+0.00238568\n",
      "[271]\ttrain-logloss:0.493567+0.000889852\ttest-logloss:0.551871+0.0023855\n",
      "[272]\ttrain-logloss:0.493373+0.000877608\ttest-logloss:0.5519+0.00240473\n",
      "[273]\ttrain-logloss:0.493226+0.000948041\ttest-logloss:0.551905+0.00239369\n",
      "[274]\ttrain-logloss:0.493097+0.000984078\ttest-logloss:0.551924+0.00241946\n",
      "[275]\ttrain-logloss:0.492927+0.00100217\ttest-logloss:0.551933+0.00241045\n",
      "[276]\ttrain-logloss:0.492807+0.000988582\ttest-logloss:0.551934+0.00241072\n",
      "[277]\ttrain-logloss:0.492624+0.000949705\ttest-logloss:0.551953+0.00242023\n",
      "[278]\ttrain-logloss:0.492489+0.000937459\ttest-logloss:0.551959+0.00242888\n",
      "[279]\ttrain-logloss:0.492328+0.000937526\ttest-logloss:0.551954+0.00240723\n",
      "[280]\ttrain-logloss:0.492107+0.00100606\ttest-logloss:0.551969+0.00240243\n",
      "[281]\ttrain-logloss:0.491983+0.00103868\ttest-logloss:0.551976+0.00240573\n",
      "[282]\ttrain-logloss:0.49183+0.00105223\ttest-logloss:0.551995+0.00239055\n",
      "[283]\ttrain-logloss:0.49159+0.000976835\ttest-logloss:0.551998+0.00239677\n",
      "[284]\ttrain-logloss:0.491361+0.000990498\ttest-logloss:0.552006+0.00241308\n",
      "[285]\ttrain-logloss:0.491203+0.000979474\ttest-logloss:0.55198+0.00242546\n",
      "[286]\ttrain-logloss:0.490987+0.000893194\ttest-logloss:0.551951+0.00246128\n",
      "[287]\ttrain-logloss:0.490797+0.00083398\ttest-logloss:0.551967+0.0024729\n",
      "[288]\ttrain-logloss:0.49065+0.000838456\ttest-logloss:0.551925+0.00245553\n",
      "[289]\ttrain-logloss:0.490415+0.000799482\ttest-logloss:0.551973+0.00244735\n",
      "[290]\ttrain-logloss:0.49023+0.000757613\ttest-logloss:0.55198+0.0024497\n",
      "[291]\ttrain-logloss:0.490015+0.000744247\ttest-logloss:0.552003+0.0024384\n",
      "[292]\ttrain-logloss:0.489782+0.000833593\ttest-logloss:0.552018+0.00241398\n",
      "[293]\ttrain-logloss:0.489616+0.000818527\ttest-logloss:0.552032+0.00240505\n",
      "[294]\ttrain-logloss:0.489382+0.000834203\ttest-logloss:0.552049+0.00240117\n",
      "[295]\ttrain-logloss:0.489219+0.000875169\ttest-logloss:0.552088+0.00241375\n",
      "[296]\ttrain-logloss:0.489043+0.000854199\ttest-logloss:0.55208+0.00241865\n",
      "[297]\ttrain-logloss:0.488913+0.000862033\ttest-logloss:0.552082+0.00242088\n",
      "[298]\ttrain-logloss:0.48872+0.000890018\ttest-logloss:0.552087+0.00243321\n",
      "[299]\ttrain-logloss:0.488586+0.000969383\ttest-logloss:0.552104+0.0024409\n",
      "[300]\ttrain-logloss:0.488378+0.000971296\ttest-logloss:0.55213+0.00242148\n",
      "[301]\ttrain-logloss:0.488213+0.000938443\ttest-logloss:0.552118+0.00241031\n",
      "[302]\ttrain-logloss:0.487971+0.000953297\ttest-logloss:0.552117+0.0024338\n",
      "[303]\ttrain-logloss:0.487782+0.000926842\ttest-logloss:0.552135+0.00241868\n",
      "[304]\ttrain-logloss:0.487569+0.000893347\ttest-logloss:0.552148+0.00242863\n",
      "[305]\ttrain-logloss:0.48735+0.000840734\ttest-logloss:0.552175+0.00244551\n",
      "[306]\ttrain-logloss:0.487171+0.000843468\ttest-logloss:0.552181+0.00245859\n",
      "[307]\ttrain-logloss:0.486983+0.000868084\ttest-logloss:0.552169+0.00247612\n",
      "[308]\ttrain-logloss:0.486808+0.000829928\ttest-logloss:0.552165+0.00248438\n",
      "[309]\ttrain-logloss:0.486602+0.000896611\ttest-logloss:0.552143+0.00247584\n",
      "[310]\ttrain-logloss:0.486378+0.000951122\ttest-logloss:0.552169+0.00247089\n",
      "[311]\ttrain-logloss:0.486214+0.000954661\ttest-logloss:0.552184+0.00248699\n",
      "[312]\ttrain-logloss:0.486056+0.000938163\ttest-logloss:0.552173+0.00252403\n",
      "[313]\ttrain-logloss:0.485868+0.000933007\ttest-logloss:0.552197+0.00251298\n",
      "[314]\ttrain-logloss:0.485643+0.000916328\ttest-logloss:0.55221+0.00251686\n",
      "[315]\ttrain-logloss:0.48547+0.000942068\ttest-logloss:0.552249+0.00250903\n",
      "[316]\ttrain-logloss:0.485329+0.000914369\ttest-logloss:0.552275+0.00251675\n",
      "[317]\ttrain-logloss:0.485108+0.000908524\ttest-logloss:0.552285+0.0025195\n",
      "[318]\ttrain-logloss:0.484919+0.000916765\ttest-logloss:0.552289+0.00252972\n",
      "[319]\ttrain-logloss:0.484733+0.000832776\ttest-logloss:0.55229+0.00254806\n",
      "[320]\ttrain-logloss:0.484553+0.000823315\ttest-logloss:0.552328+0.00254387\n",
      "[321]\ttrain-logloss:0.484456+0.000848525\ttest-logloss:0.552333+0.0025228\n",
      "[322]\ttrain-logloss:0.48432+0.000793642\ttest-logloss:0.552334+0.00252067\n",
      "[323]\ttrain-logloss:0.484216+0.000715403\ttest-logloss:0.552328+0.00254719\n",
      "[324]\ttrain-logloss:0.48403+0.000755054\ttest-logloss:0.552323+0.00253315\n",
      "[325]\ttrain-logloss:0.483876+0.000724214\ttest-logloss:0.552366+0.0025456\n",
      "[326]\ttrain-logloss:0.483614+0.000706215\ttest-logloss:0.552356+0.00257852\n",
      "[327]\ttrain-logloss:0.483429+0.000721536\ttest-logloss:0.552364+0.00258308\n",
      "[328]\ttrain-logloss:0.483199+0.000683521\ttest-logloss:0.552402+0.00255551\n",
      "[329]\ttrain-logloss:0.483048+0.000638698\ttest-logloss:0.552428+0.00254415\n",
      "[330]\ttrain-logloss:0.48289+0.000689019\ttest-logloss:0.552426+0.00254469\n",
      "[331]\ttrain-logloss:0.482694+0.000745069\ttest-logloss:0.552437+0.00254127\n",
      "[332]\ttrain-logloss:0.482504+0.000722327\ttest-logloss:0.552428+0.00258269\n",
      "[333]\ttrain-logloss:0.482351+0.000723644\ttest-logloss:0.552429+0.00256972\n",
      "[334]\ttrain-logloss:0.482143+0.000752825\ttest-logloss:0.552454+0.00255837\n",
      "[335]\ttrain-logloss:0.481953+0.000727274\ttest-logloss:0.552508+0.00256658\n",
      "[336]\ttrain-logloss:0.481762+0.000766151\ttest-logloss:0.552509+0.00254586\n",
      "[337]\ttrain-logloss:0.481563+0.000748943\ttest-logloss:0.552561+0.00251872\n",
      "[338]\ttrain-logloss:0.481437+0.000739619\ttest-logloss:0.552577+0.00253617\n",
      "[339]\ttrain-logloss:0.481269+0.000753477\ttest-logloss:0.552589+0.00254461\n"
     ]
    },
    {
     "name": "stdout",
     "output_type": "stream",
     "text": [
      "[340]\ttrain-logloss:0.481138+0.000764024\ttest-logloss:0.552612+0.00254887\n",
      "[341]\ttrain-logloss:0.480981+0.000811363\ttest-logloss:0.552621+0.00256449\n",
      "[342]\ttrain-logloss:0.480804+0.000820766\ttest-logloss:0.55264+0.00258427\n",
      "[343]\ttrain-logloss:0.480608+0.000816856\ttest-logloss:0.552638+0.00259153\n",
      "[344]\ttrain-logloss:0.480449+0.000804295\ttest-logloss:0.552645+0.00260831\n",
      "[345]\ttrain-logloss:0.480272+0.000811903\ttest-logloss:0.552672+0.00262223\n",
      "[346]\ttrain-logloss:0.480141+0.000806074\ttest-logloss:0.552664+0.00260787\n",
      "[347]\ttrain-logloss:0.479965+0.000774026\ttest-logloss:0.552679+0.00258241\n",
      "[348]\ttrain-logloss:0.47985+0.000754662\ttest-logloss:0.55268+0.00257466\n",
      "[349]\ttrain-logloss:0.479682+0.000723204\ttest-logloss:0.552695+0.00258251\n",
      "[350]\ttrain-logloss:0.479541+0.000652389\ttest-logloss:0.552713+0.00255525\n",
      "[351]\ttrain-logloss:0.479416+0.000661524\ttest-logloss:0.552728+0.0025502\n",
      "[352]\ttrain-logloss:0.479271+0.000696417\ttest-logloss:0.55274+0.00255869\n",
      "[353]\ttrain-logloss:0.479099+0.000736417\ttest-logloss:0.552736+0.00256943\n",
      "[354]\ttrain-logloss:0.478966+0.000754267\ttest-logloss:0.552763+0.00258746\n",
      "[355]\ttrain-logloss:0.478829+0.000794494\ttest-logloss:0.552787+0.0026026\n",
      "[356]\ttrain-logloss:0.478691+0.000849983\ttest-logloss:0.55279+0.00259507\n",
      "[357]\ttrain-logloss:0.478548+0.000839363\ttest-logloss:0.552798+0.00258523\n",
      "[358]\ttrain-logloss:0.478377+0.000843313\ttest-logloss:0.552824+0.00259601\n",
      "[359]\ttrain-logloss:0.47825+0.000885771\ttest-logloss:0.552852+0.00259346\n",
      "[360]\ttrain-logloss:0.478108+0.000892683\ttest-logloss:0.552846+0.00257878\n",
      "[361]\ttrain-logloss:0.477986+0.000918395\ttest-logloss:0.552828+0.0025705\n",
      "[362]\ttrain-logloss:0.477813+0.000898901\ttest-logloss:0.552839+0.00256449\n",
      "[363]\ttrain-logloss:0.477609+0.00088952\ttest-logloss:0.552872+0.00255369\n",
      "[364]\ttrain-logloss:0.477489+0.00092253\ttest-logloss:0.552874+0.00255\n",
      "[365]\ttrain-logloss:0.477379+0.000940276\ttest-logloss:0.552886+0.00257119\n",
      "[366]\ttrain-logloss:0.477236+0.000974714\ttest-logloss:0.55292+0.00259039\n",
      "[367]\ttrain-logloss:0.47709+0.00106634\ttest-logloss:0.552941+0.00258379\n",
      "[368]\ttrain-logloss:0.47692+0.00112975\ttest-logloss:0.552956+0.00256219\n",
      "[369]\ttrain-logloss:0.476674+0.00118296\ttest-logloss:0.552958+0.00255179\n",
      "[370]\ttrain-logloss:0.47656+0.00118953\ttest-logloss:0.552962+0.00256594\n",
      "[371]\ttrain-logloss:0.476352+0.00118103\ttest-logloss:0.552942+0.00257209\n",
      "[372]\ttrain-logloss:0.476228+0.00122231\ttest-logloss:0.552928+0.00258107\n",
      "[373]\ttrain-logloss:0.476083+0.00120048\ttest-logloss:0.552931+0.0025846\n",
      "[374]\ttrain-logloss:0.47593+0.00122647\ttest-logloss:0.55291+0.0026041\n",
      "[375]\ttrain-logloss:0.475823+0.00123859\ttest-logloss:0.552918+0.00261483\n",
      "[376]\ttrain-logloss:0.475655+0.00124417\ttest-logloss:0.552933+0.00263299\n",
      "[377]\ttrain-logloss:0.475484+0.00120819\ttest-logloss:0.552935+0.0026436\n",
      "[378]\ttrain-logloss:0.475299+0.00119287\ttest-logloss:0.552971+0.00262909\n",
      "[379]\ttrain-logloss:0.475121+0.00112671\ttest-logloss:0.552996+0.00264278\n",
      "[380]\ttrain-logloss:0.474977+0.00104354\ttest-logloss:0.553012+0.00264101\n",
      "[381]\ttrain-logloss:0.474778+0.00102609\ttest-logloss:0.553047+0.00261247\n",
      "[382]\ttrain-logloss:0.474643+0.0010644\ttest-logloss:0.553065+0.00260991\n",
      "[383]\ttrain-logloss:0.474492+0.00109684\ttest-logloss:0.553091+0.00261955\n",
      "[384]\ttrain-logloss:0.47431+0.00108995\ttest-logloss:0.553103+0.0026047\n",
      "[385]\ttrain-logloss:0.474107+0.00105849\ttest-logloss:0.553116+0.00260135\n",
      "[386]\ttrain-logloss:0.473942+0.00111098\ttest-logloss:0.553128+0.00262344\n",
      "[387]\ttrain-logloss:0.473792+0.00116163\ttest-logloss:0.553145+0.00262597\n",
      "[388]\ttrain-logloss:0.47358+0.00115079\ttest-logloss:0.553123+0.00263925\n",
      "[389]\ttrain-logloss:0.473353+0.00115247\ttest-logloss:0.553126+0.00262088\n",
      "[390]\ttrain-logloss:0.473198+0.00117225\ttest-logloss:0.553158+0.0026104\n",
      "[391]\ttrain-logloss:0.472965+0.00113461\ttest-logloss:0.553202+0.00264173\n",
      "[392]\ttrain-logloss:0.472804+0.00113348\ttest-logloss:0.553211+0.00266019\n",
      "[393]\ttrain-logloss:0.472635+0.00110619\ttest-logloss:0.553216+0.00267639\n",
      "[394]\ttrain-logloss:0.472452+0.00110161\ttest-logloss:0.553213+0.00265877\n",
      "[395]\ttrain-logloss:0.472252+0.00107493\ttest-logloss:0.553255+0.00267005\n",
      "[396]\ttrain-logloss:0.472075+0.00109191\ttest-logloss:0.553254+0.00265724\n",
      "[397]\ttrain-logloss:0.471896+0.00115921\ttest-logloss:0.553262+0.00265903\n",
      "[398]\ttrain-logloss:0.471717+0.00115912\ttest-logloss:0.553291+0.00268236\n",
      "[399]\ttrain-logloss:0.471529+0.00119169\ttest-logloss:0.553322+0.0026882\n",
      "[400]\ttrain-logloss:0.471354+0.00117329\ttest-logloss:0.553359+0.00267998\n",
      "[401]\ttrain-logloss:0.471155+0.00120187\ttest-logloss:0.553385+0.00267046\n",
      "[402]\ttrain-logloss:0.470982+0.0012249\ttest-logloss:0.553414+0.00267544\n",
      "[403]\ttrain-logloss:0.470813+0.00120491\ttest-logloss:0.553432+0.00267356\n",
      "[404]\ttrain-logloss:0.470674+0.00121937\ttest-logloss:0.553434+0.00268057\n",
      "[405]\ttrain-logloss:0.470532+0.00116752\ttest-logloss:0.553442+0.00268885\n",
      "[406]\ttrain-logloss:0.470353+0.00113813\ttest-logloss:0.553457+0.00267693\n",
      "[407]\ttrain-logloss:0.470236+0.00113132\ttest-logloss:0.553514+0.00266868\n",
      "[408]\ttrain-logloss:0.470063+0.00107837\ttest-logloss:0.553532+0.00265496\n",
      "[409]\ttrain-logloss:0.469927+0.00108702\ttest-logloss:0.553501+0.00266508\n",
      "[410]\ttrain-logloss:0.469728+0.00105418\ttest-logloss:0.553506+0.00266802\n",
      "[411]\ttrain-logloss:0.469545+0.00107916\ttest-logloss:0.55351+0.00265491\n",
      "[412]\ttrain-logloss:0.469398+0.00107018\ttest-logloss:0.553513+0.00265494\n",
      "[413]\ttrain-logloss:0.469228+0.00101641\ttest-logloss:0.553492+0.00268127\n",
      "[414]\ttrain-logloss:0.469129+0.000986027\ttest-logloss:0.553487+0.00270686\n",
      "[415]\ttrain-logloss:0.468977+0.00095617\ttest-logloss:0.553472+0.00271111\n",
      "[416]\ttrain-logloss:0.468844+0.000954398\ttest-logloss:0.553504+0.00269625\n",
      "[417]\ttrain-logloss:0.468764+0.000943069\ttest-logloss:0.553529+0.00269393\n",
      "[418]\ttrain-logloss:0.468644+0.000982204\ttest-logloss:0.553524+0.00270284\n",
      "[419]\ttrain-logloss:0.468522+0.000970842\ttest-logloss:0.553528+0.00269244\n",
      "[420]\ttrain-logloss:0.468368+0.000957107\ttest-logloss:0.553547+0.00271662\n",
      "[421]\ttrain-logloss:0.468159+0.000959064\ttest-logloss:0.553608+0.00273835\n",
      "[422]\ttrain-logloss:0.468027+0.00095942\ttest-logloss:0.553611+0.00273934\n",
      "[423]\ttrain-logloss:0.467874+0.000967158\ttest-logloss:0.553615+0.00276784\n",
      "[424]\ttrain-logloss:0.467763+0.000951652\ttest-logloss:0.553632+0.00275119\n",
      "[425]\ttrain-logloss:0.467532+0.000928367\ttest-logloss:0.553635+0.00278313\n",
      "[426]\ttrain-logloss:0.467378+0.000884673\ttest-logloss:0.553652+0.00275572\n",
      "[427]\ttrain-logloss:0.467206+0.000908814\ttest-logloss:0.553635+0.00277749\n",
      "[428]\ttrain-logloss:0.46703+0.000898193\ttest-logloss:0.553648+0.00275655\n",
      "[429]\ttrain-logloss:0.466886+0.000865799\ttest-logloss:0.553649+0.00276352\n",
      "[430]\ttrain-logloss:0.466732+0.000834277\ttest-logloss:0.553642+0.00275272\n",
      "[431]\ttrain-logloss:0.466566+0.000838006\ttest-logloss:0.553645+0.00275087\n",
      "[432]\ttrain-logloss:0.466416+0.00081752\ttest-logloss:0.553658+0.00275549\n",
      "[433]\ttrain-logloss:0.466258+0.000806372\ttest-logloss:0.553668+0.00274642\n",
      "[434]\ttrain-logloss:0.466101+0.000782605\ttest-logloss:0.553717+0.00273685\n",
      "[435]\ttrain-logloss:0.465905+0.000774294\ttest-logloss:0.553729+0.00270861\n",
      "[436]\ttrain-logloss:0.465725+0.000789338\ttest-logloss:0.553676+0.00271122\n",
      "[437]\ttrain-logloss:0.465606+0.000732866\ttest-logloss:0.553699+0.0027065\n",
      "[438]\ttrain-logloss:0.465502+0.000776561\ttest-logloss:0.553719+0.00269554\n",
      "[439]\ttrain-logloss:0.465358+0.000796117\ttest-logloss:0.553718+0.00269336\n",
      "[440]\ttrain-logloss:0.465203+0.000773596\ttest-logloss:0.553736+0.00271248\n",
      "[441]\ttrain-logloss:0.46503+0.000823763\ttest-logloss:0.553761+0.00271704\n",
      "[442]\ttrain-logloss:0.464848+0.000831261\ttest-logloss:0.553763+0.00270868\n",
      "[443]\ttrain-logloss:0.46468+0.000754253\ttest-logloss:0.553803+0.00269423\n",
      "[444]\ttrain-logloss:0.464516+0.000792744\ttest-logloss:0.553839+0.00271201\n",
      "[445]\ttrain-logloss:0.464375+0.000778612\ttest-logloss:0.553836+0.00272057\n",
      "[446]\ttrain-logloss:0.464202+0.000793767\ttest-logloss:0.553867+0.00272518\n",
      "[447]\ttrain-logloss:0.464061+0.000811931\ttest-logloss:0.553896+0.0027427\n",
      "[448]\ttrain-logloss:0.463899+0.000795363\ttest-logloss:0.553923+0.00273874\n",
      "[449]\ttrain-logloss:0.463726+0.000814522\ttest-logloss:0.553959+0.00273574\n",
      "[450]\ttrain-logloss:0.463521+0.000825279\ttest-logloss:0.55397+0.00273037\n",
      "[451]\ttrain-logloss:0.46337+0.000881952\ttest-logloss:0.55399+0.00271653\n"
     ]
    },
    {
     "name": "stdout",
     "output_type": "stream",
     "text": [
      "[452]\ttrain-logloss:0.46321+0.000878561\ttest-logloss:0.55401+0.00272488\n",
      "[453]\ttrain-logloss:0.463061+0.00087521\ttest-logloss:0.554023+0.00271781\n",
      "[454]\ttrain-logloss:0.462914+0.000868299\ttest-logloss:0.554029+0.00272442\n",
      "[455]\ttrain-logloss:0.462778+0.000844391\ttest-logloss:0.554059+0.00271484\n",
      "[456]\ttrain-logloss:0.462579+0.000796816\ttest-logloss:0.554048+0.00268132\n",
      "[457]\ttrain-logloss:0.462502+0.000761562\ttest-logloss:0.554058+0.00268516\n",
      "[458]\ttrain-logloss:0.462329+0.000792599\ttest-logloss:0.554055+0.00269604\n",
      "[459]\ttrain-logloss:0.462223+0.000787065\ttest-logloss:0.554064+0.00269483\n",
      "[460]\ttrain-logloss:0.462067+0.000788579\ttest-logloss:0.554126+0.00271364\n",
      "[461]\ttrain-logloss:0.461918+0.000842252\ttest-logloss:0.55413+0.00269475\n",
      "[462]\ttrain-logloss:0.461712+0.000879605\ttest-logloss:0.554154+0.00272257\n",
      "[463]\ttrain-logloss:0.461528+0.00089636\ttest-logloss:0.554196+0.00273437\n",
      "[464]\ttrain-logloss:0.461321+0.000923065\ttest-logloss:0.554207+0.00274371\n",
      "[465]\ttrain-logloss:0.461119+0.000957759\ttest-logloss:0.554226+0.00273391\n",
      "[466]\ttrain-logloss:0.460933+0.00100573\ttest-logloss:0.554256+0.0027366\n",
      "[467]\ttrain-logloss:0.460723+0.000950594\ttest-logloss:0.554295+0.0027326\n",
      "[468]\ttrain-logloss:0.460534+0.000918575\ttest-logloss:0.55433+0.00274799\n",
      "[469]\ttrain-logloss:0.460384+0.000904619\ttest-logloss:0.554352+0.00276838\n",
      "[470]\ttrain-logloss:0.460259+0.000864139\ttest-logloss:0.554367+0.00276054\n",
      "[471]\ttrain-logloss:0.460174+0.000820491\ttest-logloss:0.554376+0.00278723\n",
      "[472]\ttrain-logloss:0.460035+0.000885226\ttest-logloss:0.554402+0.00279767\n",
      "[473]\ttrain-logloss:0.459854+0.000898691\ttest-logloss:0.554412+0.00279887\n",
      "[474]\ttrain-logloss:0.459684+0.000941396\ttest-logloss:0.554426+0.00280832\n",
      "[475]\ttrain-logloss:0.459552+0.000956025\ttest-logloss:0.554437+0.00280533\n",
      "[476]\ttrain-logloss:0.459393+0.000986176\ttest-logloss:0.554472+0.00281902\n",
      "[477]\ttrain-logloss:0.459235+0.00101649\ttest-logloss:0.554461+0.00283739\n",
      "[478]\ttrain-logloss:0.459059+0.00105951\ttest-logloss:0.554485+0.00282705\n",
      "[479]\ttrain-logloss:0.458885+0.00105236\ttest-logloss:0.554511+0.00282266\n",
      "[480]\ttrain-logloss:0.458752+0.00101904\ttest-logloss:0.554521+0.00281947\n",
      "[481]\ttrain-logloss:0.458606+0.000983689\ttest-logloss:0.554532+0.00281165\n",
      "[482]\ttrain-logloss:0.458474+0.00100864\ttest-logloss:0.554537+0.00282329\n",
      "[483]\ttrain-logloss:0.458302+0.00107032\ttest-logloss:0.554567+0.00283532\n",
      "[484]\ttrain-logloss:0.458121+0.00109574\ttest-logloss:0.554576+0.00282769\n",
      "[485]\ttrain-logloss:0.457972+0.00109665\ttest-logloss:0.554588+0.00281961\n",
      "[486]\ttrain-logloss:0.457815+0.0011334\ttest-logloss:0.554611+0.00284255\n",
      "[487]\ttrain-logloss:0.457682+0.00111493\ttest-logloss:0.554637+0.00284704\n",
      "[488]\ttrain-logloss:0.457589+0.00108405\ttest-logloss:0.554653+0.0028445\n",
      "[489]\ttrain-logloss:0.457444+0.00105895\ttest-logloss:0.554676+0.00285633\n",
      "[490]\ttrain-logloss:0.45731+0.00105846\ttest-logloss:0.554721+0.00284156\n",
      "[491]\ttrain-logloss:0.457174+0.00103555\ttest-logloss:0.554736+0.00283283\n",
      "[492]\ttrain-logloss:0.457027+0.00101549\ttest-logloss:0.554778+0.00283388\n",
      "[493]\ttrain-logloss:0.456855+0.00104851\ttest-logloss:0.55478+0.00282839\n",
      "[494]\ttrain-logloss:0.456686+0.00104446\ttest-logloss:0.55478+0.00282441\n",
      "[495]\ttrain-logloss:0.456473+0.00106792\ttest-logloss:0.554815+0.00285435\n",
      "[496]\ttrain-logloss:0.456302+0.000996894\ttest-logloss:0.554839+0.00282073\n",
      "[497]\ttrain-logloss:0.4561+0.000956007\ttest-logloss:0.554849+0.00280483\n",
      "[498]\ttrain-logloss:0.455917+0.000918282\ttest-logloss:0.554873+0.00280832\n",
      "[499]\ttrain-logloss:0.455719+0.000913906\ttest-logloss:0.554866+0.00281128\n"
     ]
    }
   ],
   "source": [
    "import xgboost as xgb\n",
    "\n",
    "dtrain = xgb.DMatrix(x_train_resam, label = y_train_resam)\n",
    "num_xgb = 500\n",
    "\n",
    "params = {\n",
    "    'booster': 'gbtree',\n",
    "    'eta': 0.2, \n",
    "    'eval_metric': 'logloss',\n",
    "    'tree method': 'auto',\n",
    "    'objective': 'binary:logistic'\n",
    "}\n",
    "\n",
    "bst = xgb.cv(params, dtrain, num_xgb, nfold = 5, verbose_eval = True)"
   ]
  },
  {
   "cell_type": "code",
   "execution_count": null,
   "metadata": {
    "ExecuteTime": {
     "end_time": "2019-07-20T04:40:03.174813Z",
     "start_time": "2019-07-20T04:40:01.446021Z"
    }
   },
   "outputs": [],
   "source": [
    "dtest = xgb.DMatrix(test)\n",
    "pred = bst.predict(dtest)\n",
    "print(logloss()"
   ]
  },
  {
   "cell_type": "markdown",
   "metadata": {},
   "source": [
    "### LightGBM"
   ]
  },
  {
   "cell_type": "code",
   "execution_count": null,
   "metadata": {
    "ExecuteTime": {
     "end_time": "2019-07-19T01:13:30.083939Z",
     "start_time": "2019-07-19T01:13:28.736955Z"
    }
   },
   "outputs": [],
   "source": [
    "import lightgbm as lgb"
   ]
  },
  {
   "cell_type": "code",
   "execution_count": null,
   "metadata": {},
   "outputs": [],
   "source": []
  }
 ],
 "metadata": {
  "kernelspec": {
   "display_name": "tensorflow35",
   "language": "python",
   "name": "tensorflow35"
  },
  "language_info": {
   "codemirror_mode": {
    "name": "ipython",
    "version": 3
   },
   "file_extension": ".py",
   "mimetype": "text/x-python",
   "name": "python",
   "nbconvert_exporter": "python",
   "pygments_lexer": "ipython3",
   "version": "3.5.4"
  },
  "latex_envs": {
   "LaTeX_envs_menu_present": true,
   "autoclose": false,
   "autocomplete": true,
   "bibliofile": "biblio.bib",
   "cite_by": "apalike",
   "current_citInitial": 1,
   "eqLabelWithNumbers": true,
   "eqNumInitial": 1,
   "hotkeys": {
    "equation": "Ctrl-E",
    "itemize": "Ctrl-I"
   },
   "labels_anchors": false,
   "latex_user_defs": false,
   "report_style_numbering": false,
   "user_envs_cfg": false
  },
  "toc": {
   "base_numbering": 1,
   "nav_menu": {},
   "number_sections": true,
   "sideBar": true,
   "skip_h1_title": false,
   "title_cell": "Table of Contents",
   "title_sidebar": "Contents",
   "toc_cell": false,
   "toc_position": {},
   "toc_section_display": true,
   "toc_window_display": false
  },
  "varInspector": {
   "cols": {
    "lenName": 16,
    "lenType": 16,
    "lenVar": 40
   },
   "kernels_config": {
    "python": {
     "delete_cmd_postfix": "",
     "delete_cmd_prefix": "del ",
     "library": "var_list.py",
     "varRefreshCmd": "print(var_dic_list())"
    },
    "r": {
     "delete_cmd_postfix": ") ",
     "delete_cmd_prefix": "rm(",
     "library": "var_list.r",
     "varRefreshCmd": "cat(var_dic_list()) "
    }
   },
   "types_to_exclude": [
    "module",
    "function",
    "builtin_function_or_method",
    "instance",
    "_Feature"
   ],
   "window_display": false
  }
 },
 "nbformat": 4,
 "nbformat_minor": 2
}
