{
  "nbformat": 4,
  "nbformat_minor": 0,
  "metadata": {
    "kernelspec": {
      "name": "python3",
      "display_name": "Python 3"
    },
    "latex_envs": {
      "LaTeX_envs_menu_present": true,
      "autoclose": false,
      "autocomplete": true,
      "bibliofile": "biblio.bib",
      "cite_by": "apalike",
      "current_citInitial": 1,
      "eqLabelWithNumbers": true,
      "eqNumInitial": 1,
      "hotkeys": {
        "equation": "Ctrl-E",
        "itemize": "Ctrl-I"
      },
      "labels_anchors": false,
      "latex_user_defs": false,
      "report_style_numbering": false,
      "user_envs_cfg": false
    },
    "toc": {
      "base_numbering": 1,
      "nav_menu": {},
      "number_sections": true,
      "sideBar": true,
      "skip_h1_title": false,
      "title_cell": "Table of Contents",
      "title_sidebar": "Contents",
      "toc_cell": false,
      "toc_position": {},
      "toc_section_display": true,
      "toc_window_display": false
    },
    "varInspector": {
      "cols": {
        "lenName": 16,
        "lenType": 16,
        "lenVar": 40
      },
      "kernels_config": {
        "python": {
          "delete_cmd_postfix": "",
          "delete_cmd_prefix": "del ",
          "library": "var_list.py",
          "varRefreshCmd": "print(var_dic_list())"
        },
        "r": {
          "delete_cmd_postfix": ") ",
          "delete_cmd_prefix": "rm(",
          "library": "var_list.r",
          "varRefreshCmd": "cat(var_dic_list()) "
        }
      },
      "types_to_exclude": [
        "module",
        "function",
        "builtin_function_or_method",
        "instance",
        "_Feature"
      ],
      "window_display": false
    },
    "colab": {
      "name": "CVR预估.ipynb",
      "version": "0.3.2",
      "provenance": [],
      "collapsed_sections": [
        "g2Jdz58-npZI",
        "YQ04A29VnpZO"
      ],
      "machine_shape": "hm"
    },
    "accelerator": "GPU"
  },
  "cells": [
    {
      "cell_type": "markdown",
      "metadata": {
        "id": "eNzN_j_5npXk",
        "colab_type": "text"
      },
      "source": [
        "# 数据合并处理"
      ]
    },
    {
      "cell_type": "code",
      "metadata": {
        "id": "xWBfgVI_tKiU",
        "colab_type": "code",
        "outputId": "202e72ee-4b28-467e-9e59-206f3dad8514",
        "colab": {
          "base_uri": "https://localhost:8080/",
          "height": 127
        }
      },
      "source": [
        "from google.colab import drive\n",
        "drive.mount('/content/drive')"
      ],
      "execution_count": 1,
      "outputs": [
        {
          "output_type": "stream",
          "text": [
            "Go to this URL in a browser: https://accounts.google.com/o/oauth2/auth?client_id=947318989803-6bn6qk8qdgf4n4g3pfee6491hc0brc4i.apps.googleusercontent.com&redirect_uri=urn%3Aietf%3Awg%3Aoauth%3A2.0%3Aoob&scope=email%20https%3A%2F%2Fwww.googleapis.com%2Fauth%2Fdocs.test%20https%3A%2F%2Fwww.googleapis.com%2Fauth%2Fdrive%20https%3A%2F%2Fwww.googleapis.com%2Fauth%2Fdrive.photos.readonly%20https%3A%2F%2Fwww.googleapis.com%2Fauth%2Fpeopleapi.readonly&response_type=code\n",
            "\n",
            "Enter your authorization code:\n",
            "··········\n",
            "Mounted at /content/drive\n"
          ],
          "name": "stdout"
        }
      ]
    },
    {
      "cell_type": "code",
      "metadata": {
        "ExecuteTime": {
          "end_time": "2019-08-17T06:56:33.914805Z",
          "start_time": "2019-08-17T06:56:07.477784Z"
        },
        "id": "874-KLCgnpXl",
        "colab_type": "code",
        "colab": {}
      },
      "source": [
        "import pandas as pd\n",
        "import numpy as np\n",
        "import scipy as sp\n",
        "\n",
        "\n",
        "def read_csv_file(f, logging=False):\n",
        "    data = pd.read_csv(f)\n",
        "    if logging:\n",
        "        print(data.head())\n",
        "        print(data.columns.values)\n",
        "        print(data.describe())\n",
        "        print(data.info())\n",
        "    return data\n",
        "\n",
        "\n",
        "def categories_process_first_class(cate):\n",
        "    cate = str(cate)\n",
        "    return int(cate[0])\n",
        "\n",
        "\n",
        "def categories_process_second_class(cate):\n",
        "    cate = str(cate)\n",
        "    if len(cate) < 3:\n",
        "        return 0\n",
        "    else:\n",
        "        return int(cate[1:])\n",
        "\n",
        "\n",
        "def age_process(age):\n",
        "    age = int(age)\n",
        "    if age == 0:\n",
        "        return 0\n",
        "    if age < 16:\n",
        "        return 1\n",
        "    if age < 23:\n",
        "        return 2\n",
        "    if age < 27:\n",
        "        return 3\n",
        "    else:\n",
        "        return 4\n",
        "\n",
        "\n",
        "def province_process(hometown):\n",
        "    hometown = str(hometown)\n",
        "    if len(hometown) == 1:\n",
        "        return 0\n",
        "    else:\n",
        "        return int(hometown[:-2])\n",
        "\n",
        "\n",
        "def city_process(hometown):\n",
        "    hometown = str(hometown)\n",
        "    if len(hometown) == 1:\n",
        "        return 0\n",
        "    else:\n",
        "        return int(hometown[-2:])\n",
        "\n",
        "\n",
        "def get_time_day(t):\n",
        "    t = str(t)\n",
        "    t = int(t[0:2])\n",
        "    return t\n",
        "\n",
        "\n",
        "def get_time_hour(t):\n",
        "    t = str(t)\n",
        "    t = int(t[2:4])\n",
        "    if t < 6:\n",
        "        return 0\n",
        "    if t < 12:\n",
        "        return 1\n",
        "    if t < 18:\n",
        "        return 2\n",
        "    else:\n",
        "        return 3\n",
        "\n",
        "\n",
        "def get_time_min(t):\n",
        "    t = str(t)\n",
        "    t = int(t[4:])\n",
        "    return t\n",
        "\n",
        "\n",
        "def logloss(act, pred):\n",
        "    epsilon = 1e-5\n",
        "    pred = sp.maximum(epsilon, pred)\n",
        "    pred = sp.minimum(1 - eplison, pred)\n",
        "    ll = sum(act * sp.log(pred) +\n",
        "             sp.subtract(1, act) * sp.log(sp.subtract(1, pred)))\n",
        "    ll = ll * -1.0 / len(act)\n",
        "    return ll"
      ],
      "execution_count": 0,
      "outputs": []
    },
    {
      "cell_type": "code",
      "metadata": {
        "ExecuteTime": {
          "end_time": "2019-08-17T06:57:04.293477Z",
          "start_time": "2019-08-17T06:56:33.956745Z"
        },
        "id": "Yv4j-LsQnpXp",
        "colab_type": "code",
        "outputId": "d20f5704-ce55-4fde-bb02-c3ea3b29cca7",
        "colab": {
          "base_uri": "https://localhost:8080/",
          "height": 1000
        }
      },
      "source": [
        "from sklearn.preprocessing import Binarizer\n",
        "from sklearn.preprocessing import MinMaxScaler\n",
        "import pandas as pd\n",
        "import numpy as np\n",
        "\n",
        "print('test dataset')\n",
        "test_data = read_csv_file('/content/drive/My Drive/CVR预估/test.csv' , logging=True)\n",
        "print('================================================\\n')\n",
        "print('train dataset:')\n",
        "train_data = read_csv_file('/content/drive/My Drive/CVR预估/train.csv', logging=True)\n",
        "print('================================================\\n')\n",
        "print('ad dataset')\n",
        "ad = read_csv_file('/content/drive/My Drive/CVR预估/ad.csv', logging=True)\n",
        "print('================================================\\n')\n",
        "print('app dataset')\n",
        "app_categories = read_csv_file('/content/drive/My Drive/CVR预估/app_categories.csv', logging=True)\n",
        "print('================================================\\n')\n",
        "print('user dataset')\n",
        "user = read_csv_file('/content/drive/My Drive/CVR预估/user.csv', logging=True)\n",
        "print('================================================\\n')\n",
        "print('position dataset')\n",
        "position = read_csv_file('/content/drive/My Drive/CVR预估/position.csv', logging=True)\n",
        "print('================================================\\n')\n",
        "print('user_app_actions dataset')\n",
        "user_app_actions = read_csv_file('/content/drive/My Drive/CVR预估/user_app_actions.csv', logging=True)"
      ],
      "execution_count": 3,
      "outputs": [
        {
          "output_type": "stream",
          "text": [
            "test dataset\n",
            "   instanceID  label  clickTime  ...  positionID  connectionType  telecomsOperator\n",
            "0           1     -1     310000  ...        3451               1                 3\n",
            "1           2     -1     310000  ...        1613               1                 3\n",
            "2           3     -1     310000  ...        5510               2                 1\n",
            "3           4     -1     310000  ...        4113               2                 3\n",
            "4           5     -1     310000  ...        3615               1                 3\n",
            "\n",
            "[5 rows x 8 columns]\n",
            "['instanceID' 'label' 'clickTime' 'creativeID' 'userID' 'positionID'\n",
            " 'connectionType' 'telecomsOperator']\n",
            "          instanceID     label  ...  connectionType  telecomsOperator\n",
            "count  338489.000000  338489.0  ...   338489.000000     338489.000000\n",
            "mean   169245.000000      -1.0  ...        1.139015          1.629028\n",
            "std     97713.501971       0.0  ...        0.511882          0.854993\n",
            "min         1.000000      -1.0  ...        0.000000          0.000000\n",
            "25%     84623.000000      -1.0  ...        1.000000          1.000000\n",
            "50%    169245.000000      -1.0  ...        1.000000          1.000000\n",
            "75%    253867.000000      -1.0  ...        1.000000          2.000000\n",
            "max    338489.000000      -1.0  ...        4.000000          3.000000\n",
            "\n",
            "[8 rows x 8 columns]\n",
            "<class 'pandas.core.frame.DataFrame'>\n",
            "RangeIndex: 338489 entries, 0 to 338488\n",
            "Data columns (total 8 columns):\n",
            "instanceID          338489 non-null int64\n",
            "label               338489 non-null int64\n",
            "clickTime           338489 non-null int64\n",
            "creativeID          338489 non-null int64\n",
            "userID              338489 non-null int64\n",
            "positionID          338489 non-null int64\n",
            "connectionType      338489 non-null int64\n",
            "telecomsOperator    338489 non-null int64\n",
            "dtypes: int64(8)\n",
            "memory usage: 20.7 MB\n",
            "None\n",
            "================================================\n",
            "\n",
            "train dataset:\n",
            "   label  clickTime  ...  connectionType  telecomsOperator\n",
            "0      0     170000  ...               1                 1\n",
            "1      0     170000  ...               1                 2\n",
            "2      0     170000  ...               4                 1\n",
            "3      0     170000  ...               1                 1\n",
            "4      0     170000  ...               1                 1\n",
            "\n",
            "[5 rows x 8 columns]\n",
            "['label' 'clickTime' 'conversionTime' 'creativeID' 'userID' 'positionID'\n",
            " 'connectionType' 'telecomsOperator']\n",
            "              label     clickTime  ...  connectionType  telecomsOperator\n",
            "count  3.749528e+06  3.749528e+06  ...    3.749528e+06      3.749528e+06\n",
            "mean   2.487300e-02  2.418317e+05  ...    1.222590e+00      1.605879e+00\n",
            "std    1.557380e-01  3.958793e+04  ...    5.744428e-01      8.491127e-01\n",
            "min    0.000000e+00  1.700000e+05  ...    0.000000e+00      0.000000e+00\n",
            "25%    0.000000e+00  2.116270e+05  ...    1.000000e+00      1.000000e+00\n",
            "50%    0.000000e+00  2.418390e+05  ...    1.000000e+00      1.000000e+00\n",
            "75%    0.000000e+00  2.722170e+05  ...    1.000000e+00      2.000000e+00\n",
            "max    1.000000e+00  3.023590e+05  ...    4.000000e+00      3.000000e+00\n",
            "\n",
            "[8 rows x 8 columns]\n",
            "<class 'pandas.core.frame.DataFrame'>\n",
            "RangeIndex: 3749528 entries, 0 to 3749527\n",
            "Data columns (total 8 columns):\n",
            "label               int64\n",
            "clickTime           int64\n",
            "conversionTime      float64\n",
            "creativeID          int64\n",
            "userID              int64\n",
            "positionID          int64\n",
            "connectionType      int64\n",
            "telecomsOperator    int64\n",
            "dtypes: float64(1), int64(7)\n",
            "memory usage: 228.9 MB\n",
            "None\n",
            "================================================\n",
            "\n",
            "ad dataset\n",
            "   creativeID  adID  camgaignID  advertiserID  appID  appPlatform\n",
            "0        4079  2318         147            80     14            2\n",
            "1        4565  3593         632             3    465            1\n",
            "2        3170  1593         205            54    389            1\n",
            "3        6566  2390         205            54    389            1\n",
            "4        5187   411         564             3    465            1\n",
            "['creativeID' 'adID' 'camgaignID' 'advertiserID' 'appID' 'appPlatform']\n",
            "        creativeID         adID  ...        appID  appPlatform\n",
            "count  6582.000000  6582.000000  ...  6582.000000  6582.000000\n",
            "mean   3291.500000  1786.341689  ...   310.805682     1.448952\n",
            "std    1900.204068  1045.890729  ...   125.577377     0.497425\n",
            "min       1.000000     1.000000  ...    14.000000     1.000000\n",
            "25%    1646.250000   882.250000  ...   205.000000     1.000000\n",
            "50%    3291.500000  1771.000000  ...   389.000000     1.000000\n",
            "75%    4936.750000  2698.750000  ...   421.000000     2.000000\n",
            "max    6582.000000  3616.000000  ...   472.000000     2.000000\n",
            "\n",
            "[8 rows x 6 columns]\n",
            "<class 'pandas.core.frame.DataFrame'>\n",
            "RangeIndex: 6582 entries, 0 to 6581\n",
            "Data columns (total 6 columns):\n",
            "creativeID      6582 non-null int64\n",
            "adID            6582 non-null int64\n",
            "camgaignID      6582 non-null int64\n",
            "advertiserID    6582 non-null int64\n",
            "appID           6582 non-null int64\n",
            "appPlatform     6582 non-null int64\n",
            "dtypes: int64(6)\n",
            "memory usage: 308.6 KB\n",
            "None\n",
            "================================================\n",
            "\n",
            "app dataset\n",
            "   appID  appCategory\n",
            "0     14            2\n",
            "1     25          203\n",
            "2     68          104\n",
            "3     75          402\n",
            "4     83          203\n",
            "['appID' 'appCategory']\n",
            "               appID    appCategory\n",
            "count  217041.000000  217041.000000\n",
            "mean   137220.306472     161.856133\n",
            "std    105340.872671     157.746571\n",
            "min        14.000000       0.000000\n",
            "25%     54585.000000       0.000000\n",
            "50%    111520.000000     106.000000\n",
            "75%    195882.000000     301.000000\n",
            "max    433269.000000     503.000000\n",
            "<class 'pandas.core.frame.DataFrame'>\n",
            "RangeIndex: 217041 entries, 0 to 217040\n",
            "Data columns (total 2 columns):\n",
            "appID          217041 non-null int64\n",
            "appCategory    217041 non-null int64\n",
            "dtypes: int64(2)\n",
            "memory usage: 3.3 MB\n",
            "None\n",
            "================================================\n",
            "\n",
            "user dataset\n",
            "   userID  age  gender  ...  haveBaby  hometown  residence\n",
            "0       1   42       1  ...         0       512        503\n",
            "1       2   18       1  ...         0      1403       1403\n",
            "2       3    0       2  ...         0         0          0\n",
            "3       4   21       2  ...         0       607        607\n",
            "4       5   22       2  ...         0         0       1301\n",
            "\n",
            "[5 rows x 8 columns]\n",
            "['userID' 'age' 'gender' 'education' 'marriageStatus' 'haveBaby'\n",
            " 'hometown' 'residence']\n",
            "             userID           age  ...      hometown     residence\n",
            "count  2.805118e+06  2.805118e+06  ...  2.805118e+06  2.805118e+06\n",
            "mean   1.402560e+06  2.038662e+01  ...  6.750372e+02  9.571084e+02\n",
            "std    8.097680e+05  1.151120e+01  ...  7.691699e+02  7.897154e+02\n",
            "min    1.000000e+00  0.000000e+00  ...  0.000000e+00  0.000000e+00\n",
            "25%    7.012802e+05  1.400000e+01  ...  0.000000e+00  3.020000e+02\n",
            "50%    1.402560e+06  2.000000e+01  ...  4.030000e+02  7.170000e+02\n",
            "75%    2.103839e+06  2.700000e+01  ...  1.201000e+03  1.507000e+03\n",
            "max    2.805118e+06  8.000000e+01  ...  3.401000e+03  3.401000e+03\n",
            "\n",
            "[8 rows x 8 columns]\n",
            "<class 'pandas.core.frame.DataFrame'>\n",
            "RangeIndex: 2805118 entries, 0 to 2805117\n",
            "Data columns (total 8 columns):\n",
            "userID            int64\n",
            "age               int64\n",
            "gender            int64\n",
            "education         int64\n",
            "marriageStatus    int64\n",
            "haveBaby          int64\n",
            "hometown          int64\n",
            "residence         int64\n",
            "dtypes: int64(8)\n",
            "memory usage: 171.2 MB\n",
            "None\n",
            "================================================\n",
            "\n",
            "position dataset\n",
            "   positionID  sitesetID  positionType\n",
            "0        2150          1             0\n",
            "1        2579          1             0\n",
            "2        3322          1             0\n",
            "3        5726          1             0\n",
            "4        4522          2             0\n",
            "['positionID' 'sitesetID' 'positionType']\n",
            "        positionID    sitesetID  positionType\n",
            "count  7645.000000  7645.000000   7645.000000\n",
            "mean   3823.000000     0.011903      1.920994\n",
            "std    2207.065737     0.110844      0.877228\n",
            "min       1.000000     0.000000      0.000000\n",
            "25%    1912.000000     0.000000      1.000000\n",
            "50%    3823.000000     0.000000      2.000000\n",
            "75%    5734.000000     0.000000      2.000000\n",
            "max    7645.000000     2.000000      5.000000\n",
            "<class 'pandas.core.frame.DataFrame'>\n",
            "RangeIndex: 7645 entries, 0 to 7644\n",
            "Data columns (total 3 columns):\n",
            "positionID      7645 non-null int64\n",
            "sitesetID       7645 non-null int64\n",
            "positionType    7645 non-null int64\n",
            "dtypes: int64(3)\n",
            "memory usage: 179.3 KB\n",
            "None\n",
            "================================================\n",
            "\n",
            "user_app_actions dataset\n",
            "   userID  installTime  appID\n",
            "0       1       182032    933\n",
            "1       5       141354    589\n",
            "2       5       251727    565\n",
            "3       5       260932    596\n",
            "4       5       261318    536\n",
            "['userID' 'installTime' 'appID']\n",
            "             userID   installTime         appID\n",
            "count  6.003471e+06  6.003471e+06  6.003471e+06\n",
            "mean   1.403576e+06  1.483695e+05  5.125716e+03\n",
            "std    8.074011e+05  9.097316e+04  2.118739e+04\n",
            "min    1.000000e+00  1.000000e+04  3.540000e+02\n",
            "25%    7.055445e+05  6.164500e+04  5.890000e+02\n",
            "50%    1.404560e+06  1.408000e+05  8.270000e+02\n",
            "75%    2.100952e+06  2.320160e+05  1.969000e+03\n",
            "max    2.805117e+06  3.023590e+05  4.332670e+05\n",
            "<class 'pandas.core.frame.DataFrame'>\n",
            "RangeIndex: 6003471 entries, 0 to 6003470\n",
            "Data columns (total 3 columns):\n",
            "userID         int64\n",
            "installTime    int64\n",
            "appID          int64\n",
            "dtypes: int64(3)\n",
            "memory usage: 137.4 MB\n",
            "None\n"
          ],
          "name": "stdout"
        }
      ]
    },
    {
      "cell_type": "code",
      "metadata": {
        "ExecuteTime": {
          "end_time": "2019-08-17T06:56:02.762768Z",
          "start_time": "2019-08-17T06:56:02.759767Z"
        },
        "id": "2N-Nbf8GnpXt",
        "colab_type": "code",
        "colab": {}
      },
      "source": [
        "import pandas_profiling"
      ],
      "execution_count": 0,
      "outputs": []
    },
    {
      "cell_type": "code",
      "metadata": {
        "ExecuteTime": {
          "end_time": "2019-08-17T07:05:00.811842Z",
          "start_time": "2019-08-17T07:05:00.164592Z"
        },
        "id": "ckpndqZAnpXw",
        "colab_type": "code",
        "colab": {}
      },
      "source": [
        "train = train_data.drop(['label', 'conversionTime'], axis=1)\n",
        "test = test_data.drop(['label', 'instanceID'], axis=1)\n",
        "data = pd.concat((train, test), axis=0)"
      ],
      "execution_count": 0,
      "outputs": []
    },
    {
      "cell_type": "code",
      "metadata": {
        "id": "U_96Zj1ivEWC",
        "colab_type": "code",
        "outputId": "c862a00c-b120-4a75-e6ca-77f86e452554",
        "colab": {
          "base_uri": "https://localhost:8080/",
          "height": 71
        }
      },
      "source": [
        "train_data.label.value_counts()"
      ],
      "execution_count": 5,
      "outputs": [
        {
          "output_type": "execute_result",
          "data": {
            "text/plain": [
              "0    3656266\n",
              "1      93262\n",
              "Name: label, dtype: int64"
            ]
          },
          "metadata": {
            "tags": []
          },
          "execution_count": 5
        }
      ]
    },
    {
      "cell_type": "code",
      "metadata": {
        "ExecuteTime": {
          "end_time": "2019-08-17T07:05:02.555492Z",
          "start_time": "2019-08-17T07:05:02.539866Z"
        },
        "id": "yocN-9OonpXy",
        "colab_type": "code",
        "outputId": "72b19f5b-fc46-40c0-a5ad-969a0d7d4a26",
        "colab": {
          "base_uri": "https://localhost:8080/",
          "height": 71
        }
      },
      "source": [
        "print(data.shape)\n",
        "print(train.shape)\n",
        "print(test.shape)"
      ],
      "execution_count": 11,
      "outputs": [
        {
          "output_type": "stream",
          "text": [
            "(4088017, 6)\n",
            "(3749528, 6)\n",
            "(338489, 6)\n"
          ],
          "name": "stdout"
        }
      ]
    },
    {
      "cell_type": "code",
      "metadata": {
        "ExecuteTime": {
          "end_time": "2019-08-17T07:05:05.671052Z",
          "start_time": "2019-08-17T07:05:05.567986Z"
        },
        "id": "iUgo6oA2npX1",
        "colab_type": "code",
        "outputId": "3624173c-48ac-49d1-d09c-a583ed0b9a82",
        "colab": {
          "base_uri": "https://localhost:8080/",
          "height": 143
        }
      },
      "source": [
        "data.isnull().sum()"
      ],
      "execution_count": 12,
      "outputs": [
        {
          "output_type": "execute_result",
          "data": {
            "text/plain": [
              "clickTime           0\n",
              "creativeID          0\n",
              "userID              0\n",
              "positionID          0\n",
              "connectionType      0\n",
              "telecomsOperator    0\n",
              "dtype: int64"
            ]
          },
          "metadata": {
            "tags": []
          },
          "execution_count": 12
        }
      ]
    },
    {
      "cell_type": "code",
      "metadata": {
        "ExecuteTime": {
          "end_time": "2019-08-17T07:05:18.874160Z",
          "start_time": "2019-08-17T07:05:17.075156Z"
        },
        "id": "IB8j59AOnpX4",
        "colab_type": "code",
        "outputId": "0c9f02f1-97e7-441d-ab90-d980977934ad",
        "colab": {
          "base_uri": "https://localhost:8080/",
          "height": 35
        }
      },
      "source": [
        "data_ad = data.merge(ad, on='creativeID', how='left')\n",
        "data_ad.shape"
      ],
      "execution_count": 6,
      "outputs": [
        {
          "output_type": "execute_result",
          "data": {
            "text/plain": [
              "(4088017, 11)"
            ]
          },
          "metadata": {
            "tags": []
          },
          "execution_count": 6
        }
      ]
    },
    {
      "cell_type": "code",
      "metadata": {
        "ExecuteTime": {
          "end_time": "2019-08-17T07:05:41.623309Z",
          "start_time": "2019-08-17T07:05:20.822270Z"
        },
        "id": "bDPdN_SbnpX7",
        "colab_type": "code",
        "outputId": "b9414bbf-0912-4e40-9a17-9d87026ac716",
        "colab": {
          "base_uri": "https://localhost:8080/",
          "height": 224
        }
      },
      "source": [
        "data_ad['click_day'] = data_ad['clickTime'].apply(get_time_day)\n",
        "data_ad['click_min'] = data_ad['clickTime'].apply(get_time_min)\n",
        "data_ad['click_hour'] = data_ad['clickTime'].apply(get_time_hour)\n",
        "data_ad.drop(['clickTime'], inplace=True, axis=1)\n",
        "data_ad.tail()"
      ],
      "execution_count": 7,
      "outputs": [
        {
          "output_type": "execute_result",
          "data": {
            "text/html": [
              "<div>\n",
              "<style scoped>\n",
              "    .dataframe tbody tr th:only-of-type {\n",
              "        vertical-align: middle;\n",
              "    }\n",
              "\n",
              "    .dataframe tbody tr th {\n",
              "        vertical-align: top;\n",
              "    }\n",
              "\n",
              "    .dataframe thead th {\n",
              "        text-align: right;\n",
              "    }\n",
              "</style>\n",
              "<table border=\"1\" class=\"dataframe\">\n",
              "  <thead>\n",
              "    <tr style=\"text-align: right;\">\n",
              "      <th></th>\n",
              "      <th>creativeID</th>\n",
              "      <th>userID</th>\n",
              "      <th>positionID</th>\n",
              "      <th>connectionType</th>\n",
              "      <th>telecomsOperator</th>\n",
              "      <th>adID</th>\n",
              "      <th>camgaignID</th>\n",
              "      <th>advertiserID</th>\n",
              "      <th>appID</th>\n",
              "      <th>appPlatform</th>\n",
              "      <th>click_day</th>\n",
              "      <th>click_min</th>\n",
              "      <th>click_hour</th>\n",
              "    </tr>\n",
              "  </thead>\n",
              "  <tbody>\n",
              "    <tr>\n",
              "      <th>4088012</th>\n",
              "      <td>1456</td>\n",
              "      <td>365374</td>\n",
              "      <td>4455</td>\n",
              "      <td>2</td>\n",
              "      <td>1</td>\n",
              "      <td>3379</td>\n",
              "      <td>411</td>\n",
              "      <td>3</td>\n",
              "      <td>465</td>\n",
              "      <td>1</td>\n",
              "      <td>31</td>\n",
              "      <td>59</td>\n",
              "      <td>3</td>\n",
              "    </tr>\n",
              "    <tr>\n",
              "      <th>4088013</th>\n",
              "      <td>2962</td>\n",
              "      <td>2231643</td>\n",
              "      <td>4818</td>\n",
              "      <td>1</td>\n",
              "      <td>2</td>\n",
              "      <td>146</td>\n",
              "      <td>138</td>\n",
              "      <td>79</td>\n",
              "      <td>391</td>\n",
              "      <td>1</td>\n",
              "      <td>31</td>\n",
              "      <td>59</td>\n",
              "      <td>3</td>\n",
              "    </tr>\n",
              "    <tr>\n",
              "      <th>4088014</th>\n",
              "      <td>4785</td>\n",
              "      <td>1673380</td>\n",
              "      <td>3322</td>\n",
              "      <td>1</td>\n",
              "      <td>3</td>\n",
              "      <td>2871</td>\n",
              "      <td>613</td>\n",
              "      <td>20</td>\n",
              "      <td>328</td>\n",
              "      <td>2</td>\n",
              "      <td>31</td>\n",
              "      <td>59</td>\n",
              "      <td>3</td>\n",
              "    </tr>\n",
              "    <tr>\n",
              "      <th>4088015</th>\n",
              "      <td>4432</td>\n",
              "      <td>1303085</td>\n",
              "      <td>4501</td>\n",
              "      <td>0</td>\n",
              "      <td>1</td>\n",
              "      <td>1161</td>\n",
              "      <td>45</td>\n",
              "      <td>3</td>\n",
              "      <td>465</td>\n",
              "      <td>1</td>\n",
              "      <td>31</td>\n",
              "      <td>59</td>\n",
              "      <td>3</td>\n",
              "    </tr>\n",
              "    <tr>\n",
              "      <th>4088016</th>\n",
              "      <td>2982</td>\n",
              "      <td>490286</td>\n",
              "      <td>7149</td>\n",
              "      <td>2</td>\n",
              "      <td>1</td>\n",
              "      <td>3379</td>\n",
              "      <td>411</td>\n",
              "      <td>3</td>\n",
              "      <td>465</td>\n",
              "      <td>1</td>\n",
              "      <td>31</td>\n",
              "      <td>59</td>\n",
              "      <td>3</td>\n",
              "    </tr>\n",
              "  </tbody>\n",
              "</table>\n",
              "</div>"
            ],
            "text/plain": [
              "         creativeID   userID  positionID  ...  click_day  click_min  click_hour\n",
              "4088012        1456   365374        4455  ...         31         59           3\n",
              "4088013        2962  2231643        4818  ...         31         59           3\n",
              "4088014        4785  1673380        3322  ...         31         59           3\n",
              "4088015        4432  1303085        4501  ...         31         59           3\n",
              "4088016        2982   490286        7149  ...         31         59           3\n",
              "\n",
              "[5 rows x 13 columns]"
            ]
          },
          "metadata": {
            "tags": []
          },
          "execution_count": 7
        }
      ]
    },
    {
      "cell_type": "code",
      "metadata": {
        "ExecuteTime": {
          "end_time": "2019-08-17T07:06:14.939329Z",
          "start_time": "2019-08-17T07:06:03.177191Z"
        },
        "id": "jL8Hxo-GnpX-",
        "colab_type": "code",
        "colab": {}
      },
      "source": [
        "data_ad_app = data_ad.merge(app_categories, on='appID', how='left')\n",
        "data_ad_app['app_first_categories'] = data_ad_app['appCategory'].apply(\n",
        "    categories_process_first_class)\n",
        "data_ad_app['app_second_categories'] = data_ad_app['appCategory'].apply(\n",
        "    categories_process_second_class)\n",
        "data_ad_app.drop(['appCategory'], axis=1, inplace=True)"
      ],
      "execution_count": 0,
      "outputs": []
    },
    {
      "cell_type": "code",
      "metadata": {
        "ExecuteTime": {
          "end_time": "2019-08-17T07:06:39.900943Z",
          "start_time": "2019-08-17T07:06:17.901128Z"
        },
        "id": "bGRsmux2npYA",
        "colab_type": "code",
        "colab": {}
      },
      "source": [
        "data_ad_app_user = data_ad_app.merge(user, on='userID', how='left')"
      ],
      "execution_count": 0,
      "outputs": []
    },
    {
      "cell_type": "code",
      "metadata": {
        "ExecuteTime": {
          "end_time": "2019-08-17T07:12:14.304881Z",
          "start_time": "2019-08-17T07:12:11.210151Z"
        },
        "scrolled": true,
        "id": "VAeVmxi5npYE",
        "colab_type": "code",
        "colab": {}
      },
      "source": [
        "##test数据集的age数据缺失较多\n",
        "data_ad_app_user['age'].describe()"
      ],
      "execution_count": 0,
      "outputs": []
    },
    {
      "cell_type": "markdown",
      "metadata": {
        "ExecuteTime": {
          "start_time": "2019-07-16T08:16:00.684Z"
        },
        "id": "oWm5dmQVnpYH",
        "colab_type": "text"
      },
      "source": [
        "data_ad_app_user['age'].replace(\n",
        "    0.0,\n",
        "    data_ad_app_user['age'][data_ad_app_user['age'] != 0.0].mean(),\n",
        "    inplace=True)"
      ]
    },
    {
      "cell_type": "markdown",
      "metadata": {
        "ExecuteTime": {
          "start_time": "2019-07-16T08:16:45.999Z"
        },
        "id": "6c-NxDMSnpYI",
        "colab_type": "text"
      },
      "source": [
        "data_ad_app_user['age'].fillna(\n",
        "    data_ad_app_user['age'][data_ad_app_user['age'] != 0.0].mean(),\n",
        "    inplace=True)\n",
        "data_ad_app_user['age'].isnull().sum()"
      ]
    },
    {
      "cell_type": "code",
      "metadata": {
        "ExecuteTime": {
          "end_time": "2019-07-16T08:18:56.349791Z",
          "start_time": "2019-07-16T08:18:51.732456Z"
        },
        "id": "Re38WyUjnpYI",
        "colab_type": "code",
        "colab": {}
      },
      "source": [
        "data_ad_app_user['age'] = data_ad_app_user['age'].apply(age_process)"
      ],
      "execution_count": 0,
      "outputs": []
    },
    {
      "cell_type": "code",
      "metadata": {
        "ExecuteTime": {
          "end_time": "2019-08-17T07:16:17.697456Z",
          "start_time": "2019-08-17T07:16:02.292917Z"
        },
        "id": "nJ6B0KOYnpYL",
        "colab_type": "code",
        "outputId": "d1f72373-3a8b-4f0f-fceb-aa449c8d5546",
        "colab": {
          "base_uri": "https://localhost:8080/",
          "height": 224
        }
      },
      "source": [
        "data_ad_app_user['residence_province'] = data_ad_app_user['residence'].apply(\n",
        "    province_process)\n",
        "data_ad_app_user['residence_city'] = data_ad_app_user['residence'].apply(\n",
        "    city_process)\n",
        "data_ad_app_user.drop(['residence'], inplace=True, axis=1)\n",
        "data_ad_app_user.tail()"
      ],
      "execution_count": 11,
      "outputs": [
        {
          "output_type": "execute_result",
          "data": {
            "text/html": [
              "<div>\n",
              "<style scoped>\n",
              "    .dataframe tbody tr th:only-of-type {\n",
              "        vertical-align: middle;\n",
              "    }\n",
              "\n",
              "    .dataframe tbody tr th {\n",
              "        vertical-align: top;\n",
              "    }\n",
              "\n",
              "    .dataframe thead th {\n",
              "        text-align: right;\n",
              "    }\n",
              "</style>\n",
              "<table border=\"1\" class=\"dataframe\">\n",
              "  <thead>\n",
              "    <tr style=\"text-align: right;\">\n",
              "      <th></th>\n",
              "      <th>creativeID</th>\n",
              "      <th>userID</th>\n",
              "      <th>positionID</th>\n",
              "      <th>connectionType</th>\n",
              "      <th>telecomsOperator</th>\n",
              "      <th>adID</th>\n",
              "      <th>camgaignID</th>\n",
              "      <th>advertiserID</th>\n",
              "      <th>appID</th>\n",
              "      <th>appPlatform</th>\n",
              "      <th>click_day</th>\n",
              "      <th>click_min</th>\n",
              "      <th>click_hour</th>\n",
              "      <th>app_first_categories</th>\n",
              "      <th>app_second_categories</th>\n",
              "      <th>age</th>\n",
              "      <th>gender</th>\n",
              "      <th>education</th>\n",
              "      <th>marriageStatus</th>\n",
              "      <th>haveBaby</th>\n",
              "      <th>hometown</th>\n",
              "      <th>residence_province</th>\n",
              "      <th>residence_city</th>\n",
              "    </tr>\n",
              "  </thead>\n",
              "  <tbody>\n",
              "    <tr>\n",
              "      <th>4088012</th>\n",
              "      <td>1456</td>\n",
              "      <td>365374</td>\n",
              "      <td>4455</td>\n",
              "      <td>2</td>\n",
              "      <td>1</td>\n",
              "      <td>3379</td>\n",
              "      <td>411</td>\n",
              "      <td>3</td>\n",
              "      <td>465</td>\n",
              "      <td>1</td>\n",
              "      <td>31</td>\n",
              "      <td>59</td>\n",
              "      <td>3</td>\n",
              "      <td>2</td>\n",
              "      <td>9</td>\n",
              "      <td>2</td>\n",
              "      <td>1</td>\n",
              "      <td>1</td>\n",
              "      <td>1</td>\n",
              "      <td>0</td>\n",
              "      <td>1011</td>\n",
              "      <td>10</td>\n",
              "      <td>11</td>\n",
              "    </tr>\n",
              "    <tr>\n",
              "      <th>4088013</th>\n",
              "      <td>2962</td>\n",
              "      <td>2231643</td>\n",
              "      <td>4818</td>\n",
              "      <td>1</td>\n",
              "      <td>2</td>\n",
              "      <td>146</td>\n",
              "      <td>138</td>\n",
              "      <td>79</td>\n",
              "      <td>391</td>\n",
              "      <td>1</td>\n",
              "      <td>31</td>\n",
              "      <td>59</td>\n",
              "      <td>3</td>\n",
              "      <td>5</td>\n",
              "      <td>3</td>\n",
              "      <td>0</td>\n",
              "      <td>0</td>\n",
              "      <td>0</td>\n",
              "      <td>0</td>\n",
              "      <td>0</td>\n",
              "      <td>0</td>\n",
              "      <td>0</td>\n",
              "      <td>0</td>\n",
              "    </tr>\n",
              "    <tr>\n",
              "      <th>4088014</th>\n",
              "      <td>4785</td>\n",
              "      <td>1673380</td>\n",
              "      <td>3322</td>\n",
              "      <td>1</td>\n",
              "      <td>3</td>\n",
              "      <td>2871</td>\n",
              "      <td>613</td>\n",
              "      <td>20</td>\n",
              "      <td>328</td>\n",
              "      <td>2</td>\n",
              "      <td>31</td>\n",
              "      <td>59</td>\n",
              "      <td>3</td>\n",
              "      <td>1</td>\n",
              "      <td>4</td>\n",
              "      <td>3</td>\n",
              "      <td>1</td>\n",
              "      <td>2</td>\n",
              "      <td>1</td>\n",
              "      <td>0</td>\n",
              "      <td>108</td>\n",
              "      <td>5</td>\n",
              "      <td>3</td>\n",
              "    </tr>\n",
              "    <tr>\n",
              "      <th>4088015</th>\n",
              "      <td>4432</td>\n",
              "      <td>1303085</td>\n",
              "      <td>4501</td>\n",
              "      <td>0</td>\n",
              "      <td>1</td>\n",
              "      <td>1161</td>\n",
              "      <td>45</td>\n",
              "      <td>3</td>\n",
              "      <td>465</td>\n",
              "      <td>1</td>\n",
              "      <td>31</td>\n",
              "      <td>59</td>\n",
              "      <td>3</td>\n",
              "      <td>2</td>\n",
              "      <td>9</td>\n",
              "      <td>2</td>\n",
              "      <td>2</td>\n",
              "      <td>3</td>\n",
              "      <td>0</td>\n",
              "      <td>0</td>\n",
              "      <td>204</td>\n",
              "      <td>2</td>\n",
              "      <td>4</td>\n",
              "    </tr>\n",
              "    <tr>\n",
              "      <th>4088016</th>\n",
              "      <td>2982</td>\n",
              "      <td>490286</td>\n",
              "      <td>7149</td>\n",
              "      <td>2</td>\n",
              "      <td>1</td>\n",
              "      <td>3379</td>\n",
              "      <td>411</td>\n",
              "      <td>3</td>\n",
              "      <td>465</td>\n",
              "      <td>1</td>\n",
              "      <td>31</td>\n",
              "      <td>59</td>\n",
              "      <td>3</td>\n",
              "      <td>2</td>\n",
              "      <td>9</td>\n",
              "      <td>2</td>\n",
              "      <td>2</td>\n",
              "      <td>1</td>\n",
              "      <td>0</td>\n",
              "      <td>1</td>\n",
              "      <td>1002</td>\n",
              "      <td>10</td>\n",
              "      <td>9</td>\n",
              "    </tr>\n",
              "  </tbody>\n",
              "</table>\n",
              "</div>"
            ],
            "text/plain": [
              "         creativeID   userID  ...  residence_province  residence_city\n",
              "4088012        1456   365374  ...                  10              11\n",
              "4088013        2962  2231643  ...                   0               0\n",
              "4088014        4785  1673380  ...                   5               3\n",
              "4088015        4432  1303085  ...                   2               4\n",
              "4088016        2982   490286  ...                  10               9\n",
              "\n",
              "[5 rows x 23 columns]"
            ]
          },
          "metadata": {
            "tags": []
          },
          "execution_count": 11
        }
      ]
    },
    {
      "cell_type": "code",
      "metadata": {
        "ExecuteTime": {
          "end_time": "2019-08-17T07:22:47.127638Z",
          "start_time": "2019-08-17T07:22:44.728461Z"
        },
        "id": "mDG-3_LenpYN",
        "colab_type": "code",
        "colab": {}
      },
      "source": [
        "data_ad_app_user_position = data_ad_app_user.merge(position,  on='positionID', how='left')"
      ],
      "execution_count": 0,
      "outputs": []
    },
    {
      "cell_type": "code",
      "metadata": {
        "id": "aNmyqBhv4bjl",
        "colab_type": "code",
        "colab": {}
      },
      "source": [
        "import pandas_profiling"
      ],
      "execution_count": 0,
      "outputs": []
    },
    {
      "cell_type": "code",
      "metadata": {
        "id": "PdfMaFviyTYA",
        "colab_type": "code",
        "colab": {}
      },
      "source": [
        "#x_train.profile_report(style = {'full_width': True})"
      ],
      "execution_count": 0,
      "outputs": []
    },
    {
      "cell_type": "code",
      "metadata": {
        "ExecuteTime": {
          "end_time": "2019-07-16T14:10:12.249029Z",
          "start_time": "2019-07-16T14:08:27.205793Z"
        },
        "id": "sPHh8-RmnpYP",
        "colab_type": "code",
        "colab": {}
      },
      "source": [
        "x_train = data_ad_app_user_position[:3749528]\n",
        "y_train = train_data['label']\n",
        "test = data_ad_app_user_position[3749528:]"
      ],
      "execution_count": 0,
      "outputs": []
    },
    {
      "cell_type": "code",
      "metadata": {
        "ExecuteTime": {
          "start_time": "2019-07-16T14:42:53.253Z"
        },
        "id": "_Uq7HYODnpYS",
        "colab_type": "code",
        "colab": {}
      },
      "source": [
        "import pickle\n",
        "with open('/content/drive/My Drive/CVR预估/values.pkl', 'wb') as f:\n",
        "    pickle.dump(x_train, f)\n",
        "    pickle.dump(y_train, f)\n",
        "    pickle.dump(test, f)"
      ],
      "execution_count": 0,
      "outputs": []
    },
    {
      "cell_type": "markdown",
      "metadata": {
        "id": "f0boALvbnpYU",
        "colab_type": "text"
      },
      "source": [
        "# 数据建模"
      ]
    },
    {
      "cell_type": "markdown",
      "metadata": {
        "id": "vRohRbxrnpYV",
        "colab_type": "text"
      },
      "source": [
        "## 导入数据"
      ]
    },
    {
      "cell_type": "code",
      "metadata": {
        "ExecuteTime": {
          "end_time": "2019-07-25T08:59:37.703725Z",
          "start_time": "2019-07-25T08:59:16.337934Z"
        },
        "id": "iIpjyRWbnpYV",
        "colab_type": "code",
        "colab": {}
      },
      "source": [
        "import pickle\n",
        "with open('values.pkl', 'rb') as f:\n",
        "    x_train = pickle.load(f)\n",
        "    y_train = pickle.load(f)\n",
        "    test = pickle.load(f)"
      ],
      "execution_count": 0,
      "outputs": []
    },
    {
      "cell_type": "code",
      "metadata": {
        "ExecuteTime": {
          "end_time": "2019-07-25T09:00:01.429529Z",
          "start_time": "2019-07-25T08:59:58.152622Z"
        },
        "id": "ikwlbmH1npYY",
        "colab_type": "code",
        "colab": {}
      },
      "source": [
        "y_train.value_counts()\n",
        "##正负样本非常不均衡，但由于过采样后数据量过大，电脑内存有限，使用欠采样的方法"
      ],
      "execution_count": 0,
      "outputs": []
    },
    {
      "cell_type": "code",
      "metadata": {
        "ExecuteTime": {
          "end_time": "2019-07-22T06:21:06.362136Z",
          "start_time": "2019-07-22T06:21:06.328112Z"
        },
        "id": "7tgtl8PZnpYa",
        "colab_type": "code",
        "colab": {}
      },
      "source": [
        "df_train = x_train.copy()\n",
        "df_train['label'] = y_train"
      ],
      "execution_count": 0,
      "outputs": []
    },
    {
      "cell_type": "code",
      "metadata": {
        "id": "LWUq40W1BxHK",
        "colab_type": "code",
        "colab": {}
      },
      "source": [
        "import cufflinks as cf\n",
        "import seaborn as sns\n",
        "import matplotlib.pyplot as plt\n",
        "%matplotlib inline"
      ],
      "execution_count": 0,
      "outputs": []
    },
    {
      "cell_type": "code",
      "metadata": {
        "id": "JIPVPGGoBbKG",
        "colab_type": "code",
        "colab": {
          "base_uri": "https://localhost:8080/",
          "height": 1000
        },
        "outputId": "f986a65f-050f-4c01-ff1c-40bdcfa274a5"
      },
      "source": [
        "plt.figure(figsize = (24, 16))\n",
        "sns.heatmap(df_train.corr().round(2), annot = True, cmap = 'Greens')"
      ],
      "execution_count": 17,
      "outputs": [
        {
          "output_type": "execute_result",
          "data": {
            "text/plain": [
              "<matplotlib.axes._subplots.AxesSubplot at 0x7fcf0077c1d0>"
            ]
          },
          "metadata": {
            "tags": []
          },
          "execution_count": 17
        },
        {
          "output_type": "display_data",
          "data": {
            "image/png": "[encoded data removed]",
            "text/plain": [
              "<Figure size 1728x1152 with 2 Axes>"
            ]
          },
          "metadata": {
            "tags": []
          }
        }
      ]
    },
    {
      "cell_type": "markdown",
      "metadata": {
        "id": "Y0aR8KeunpYt",
        "colab_type": "text"
      },
      "source": [
        "## 过采样后存储数据"
      ]
    },
    {
      "cell_type": "code",
      "metadata": {
        "ExecuteTime": {
          "end_time": "2019-07-17T10:30:45.527075Z",
          "start_time": "2019-07-17T10:03:37.252671Z"
        },
        "id": "kYH2uERunpYu",
        "colab_type": "code",
        "colab": {}
      },
      "source": [
        "from imblearn.over_sampling import ADASYN\n",
        "\n",
        "x_train_oversam, y_train_oversam = ADASYN().fit_sample(x_train, y_train)"
      ],
      "execution_count": 0,
      "outputs": []
    },
    {
      "cell_type": "code",
      "metadata": {
        "ExecuteTime": {
          "end_time": "2019-07-17T11:19:47.926456Z",
          "start_time": "2019-07-17T11:09:15.312867Z"
        },
        "id": "tj_fdKclnpYy",
        "colab_type": "code",
        "colab": {}
      },
      "source": [
        "import pickle\n",
        "with open('values_resam.pkl', 'wb') as f:\n",
        "    pickle.dump(x_train_oversam, f)\n",
        "    pickle.dump(y_train_oversam, f)"
      ],
      "execution_count": 0,
      "outputs": []
    },
    {
      "cell_type": "code",
      "metadata": {
        "ExecuteTime": {
          "end_time": "2019-07-17T11:49:48.356254Z",
          "start_time": "2019-07-17T11:49:48.305029Z"
        },
        "id": "uYjQAfijnpY2",
        "colab_type": "code",
        "colab": {}
      },
      "source": [
        "print(x_train_oversam.shape)\n",
        "print(y_train_oversam.shape)"
      ],
      "execution_count": 0,
      "outputs": []
    },
    {
      "cell_type": "code",
      "metadata": {
        "ExecuteTime": {
          "start_time": "2019-07-17T13:58:17.512Z"
        },
        "id": "63vZzSF9npY6",
        "colab_type": "code",
        "colab": {}
      },
      "source": [
        "## EasyEnsemble\n",
        "'''\n",
        "from imblearn.ensemble import BalancedBaggingClassifier\n",
        "from sklearn.tree import DecisionTreeClassifier\n",
        "from sklearn.model_selection import KFold\n",
        "\n",
        "bbc = BalancedBaggingClassifier(\n",
        "    base_estimator = DecisionTreeClassifier(),\n",
        "    ratio = 'auto',\n",
        "    replacement = False,\n",
        "    random_state = 100,\n",
        "    n_jobs = -1\n",
        ")'''\n",
        "'''\n",
        "kf = KFold(n_splits = 5)\n",
        "for train_index, val_index in kf.split(x_train, y_train):\n",
        "    X_train,Y_train = x_train[train_index, : ], y_train[train_index]\n",
        "    X_val, Y_val = x_train[val_index, : ], y_train[val_index]\n",
        "    bbc.fit(X_train, Y_train)\n",
        "    pred_bbc = bbc.predict_proba(X_val)\n",
        "    print(pred_bbc)\n",
        "    print('The logloss is ', logloss(Y_val, pred_bbc))\n",
        "'''"
      ],
      "execution_count": 0,
      "outputs": []
    },
    {
      "cell_type": "markdown",
      "metadata": {
        "id": "S-DoaQuFnpY8",
        "colab_type": "text"
      },
      "source": [
        "## 欠采样并存储数据"
      ]
    },
    {
      "cell_type": "code",
      "metadata": {
        "ExecuteTime": {
          "end_time": "2019-07-21T09:02:18.573952Z",
          "start_time": "2019-07-21T09:01:14.177128Z"
        },
        "scrolled": true,
        "id": "XyC5pmNVnpY9",
        "colab_type": "code",
        "colab": {}
      },
      "source": [
        "import numpy as np\n",
        "import pickle\n",
        "\n",
        "with open('/content/drive/My Drive/CVR预估/values.pkl', 'rb') as f:\n",
        "    x_train = pickle.load(f)\n",
        "    y_train = pickle.load(f)\n",
        "    test = pickle.load(f)\n",
        "\n",
        "#x_train = np.array(x_train)\n",
        "#y_train = np.array(y_train)\n",
        "#test = np.array(test)"
      ],
      "execution_count": 0,
      "outputs": []
    },
    {
      "cell_type": "code",
      "metadata": {
        "ExecuteTime": {
          "end_time": "2019-07-21T09:36:25.672895Z",
          "start_time": "2019-07-21T09:36:21.201056Z"
        },
        "id": "wzJKJ0XKnpZA",
        "colab_type": "code",
        "colab": {
          "base_uri": "https://localhost:8080/",
          "height": 109
        },
        "outputId": "52ccd6d2-79a9-40fc-b11e-6d7a0ec9f630"
      },
      "source": [
        "from imblearn.under_sampling import NearMiss\n",
        "\n",
        "nm = NearMiss(version = 3, random_state=100, n_jobs = -1)\n",
        "x_train_resam, y_train_resam = nm.fit_sample(x_train, y_train)"
      ],
      "execution_count": 18,
      "outputs": [
        {
          "output_type": "stream",
          "text": [
            "/usr/local/lib/python3.6/dist-packages/sklearn/externals/six.py:31: DeprecationWarning:\n",
            "\n",
            "The module is deprecated in version 0.21 and will be removed in version 0.23 since we've dropped support for Python 2.7. Please rely on the official version of six (https://pypi.org/project/six/).\n",
            "\n"
          ],
          "name": "stderr"
        }
      ]
    },
    {
      "cell_type": "code",
      "metadata": {
        "id": "v7KUmqHEd_vY",
        "colab_type": "code",
        "colab": {
          "base_uri": "https://localhost:8080/",
          "height": 143
        },
        "outputId": "4c10ed9a-25fe-4408-fbb2-2961cb26423b"
      },
      "source": [
        "x_train_resam"
      ],
      "execution_count": 19,
      "outputs": [
        {
          "output_type": "execute_result",
          "data": {
            "text/plain": [
              "array([[   1166,  798666,    7502, ...,       1,       0,       1],\n",
              "       [     58, 1279663,    7434, ...,       5,       0,       1],\n",
              "       [    742,   62544,    7619, ...,       3,       1,       0],\n",
              "       ...,\n",
              "       [   1675, 1445513,    2188, ...,       1,       0,       1],\n",
              "       [   4077, 1252796,    5539, ...,       0,       1,       0],\n",
              "       [   2038, 2216718,    1865, ...,       6,       0,       2]])"
            ]
          },
          "metadata": {
            "tags": []
          },
          "execution_count": 19
        }
      ]
    },
    {
      "cell_type": "code",
      "metadata": {
        "id": "oqsMFASqnpZD",
        "colab_type": "code",
        "colab": {}
      },
      "source": [
        "x_train_resam = pd.DataFrame(x_train_resam, columns=x_train.columns)\n",
        "y_train_resam = pd.DataFrame(y_train_resam, columns=['label'])\n",
        "print(x_train_resam)"
      ],
      "execution_count": 0,
      "outputs": []
    },
    {
      "cell_type": "code",
      "metadata": {
        "id": "sJIu4p5seMXp",
        "colab_type": "code",
        "colab": {}
      },
      "source": [
        "with open('/content/drive/My Drive/CVR预估/values_undersampling.pkl', 'wb') as f:\n",
        "    pickle.dump(x_train_resam, f)\n",
        "    pickle.dump(y_train_resam, f)\n",
        "    pickle.dump(test, f)"
      ],
      "execution_count": 0,
      "outputs": []
    },
    {
      "cell_type": "markdown",
      "metadata": {
        "id": "FnVfF9AhnpZG",
        "colab_type": "text"
      },
      "source": [
        "## 载入数据"
      ]
    },
    {
      "cell_type": "code",
      "metadata": {
        "ExecuteTime": {
          "end_time": "2019-07-24T04:10:58.076357Z",
          "start_time": "2019-07-24T04:10:57.858203Z"
        },
        "code_folding": [],
        "colab_type": "code",
        "outputId": "c3604db6-8b7d-4f99-fb18-7ed293c03660",
        "id": "cz2KhP3bo-t1",
        "colab": {
          "base_uri": "https://localhost:8080/",
          "height": 243
        }
      },
      "source": [
        "import pickle\n",
        "\n",
        "with open('/content/drive/My Drive/CVR预估/values_undersampling.pkl', 'rb') as f:\n",
        "    x_train_resam = pickle.load(f)\n",
        "    y_train_resam = pickle.load(f)\n",
        "    test = pickle.load(f)"
      ],
      "execution_count": 0,
      "outputs": [
        {
          "output_type": "error",
          "ename": "FileNotFoundError",
          "evalue": "ignored",
          "traceback": [
            "\u001b[0;31m---------------------------------------------------------------------------\u001b[0m",
            "\u001b[0;31mFileNotFoundError\u001b[0m                         Traceback (most recent call last)",
            "\u001b[0;32m<ipython-input-22-d9865cf3286c>\u001b[0m in \u001b[0;36m<module>\u001b[0;34m()\u001b[0m\n\u001b[1;32m      1\u001b[0m \u001b[0;32mimport\u001b[0m \u001b[0mpickle\u001b[0m\u001b[0;34m\u001b[0m\u001b[0;34m\u001b[0m\u001b[0m\n\u001b[1;32m      2\u001b[0m \u001b[0;34m\u001b[0m\u001b[0m\n\u001b[0;32m----> 3\u001b[0;31m \u001b[0;32mwith\u001b[0m \u001b[0mopen\u001b[0m\u001b[0;34m(\u001b[0m\u001b[0;34m'/content/drive/My Drive/CVR预估/values_undersampling.pkl'\u001b[0m\u001b[0;34m,\u001b[0m \u001b[0;34m'rb'\u001b[0m\u001b[0;34m)\u001b[0m \u001b[0;32mas\u001b[0m \u001b[0mf\u001b[0m\u001b[0;34m:\u001b[0m\u001b[0;34m\u001b[0m\u001b[0;34m\u001b[0m\u001b[0m\n\u001b[0m\u001b[1;32m      4\u001b[0m     \u001b[0mx_train_resam\u001b[0m \u001b[0;34m=\u001b[0m \u001b[0mpickle\u001b[0m\u001b[0;34m.\u001b[0m\u001b[0mload\u001b[0m\u001b[0;34m(\u001b[0m\u001b[0mf\u001b[0m\u001b[0;34m)\u001b[0m\u001b[0;34m\u001b[0m\u001b[0;34m\u001b[0m\u001b[0m\n\u001b[1;32m      5\u001b[0m     \u001b[0my_train_resam\u001b[0m \u001b[0;34m=\u001b[0m \u001b[0mpickle\u001b[0m\u001b[0;34m.\u001b[0m\u001b[0mload\u001b[0m\u001b[0;34m(\u001b[0m\u001b[0mf\u001b[0m\u001b[0;34m)\u001b[0m\u001b[0;34m\u001b[0m\u001b[0;34m\u001b[0m\u001b[0m\n",
            "\u001b[0;31mFileNotFoundError\u001b[0m: [Errno 2] No such file or directory: '/content/drive/My Drive/CVR预估/values_undersampling.pkl'"
          ]
        }
      ]
    },
    {
      "cell_type": "markdown",
      "metadata": {
        "id": "g2Jdz58-npZI",
        "colab_type": "text"
      },
      "source": [
        "### Xgbosst"
      ]
    },
    {
      "cell_type": "markdown",
      "metadata": {
        "id": "r3qlKw3SnpZJ",
        "colab_type": "text"
      },
      "source": [
        "#### 用sklearn API"
      ]
    },
    {
      "cell_type": "code",
      "metadata": {
        "ExecuteTime": {
          "start_time": "2019-07-20T02:31:05.567Z"
        },
        "id": "oYK3MBuEnpZK",
        "colab_type": "code",
        "colab": {}
      },
      "source": [
        "'''\n",
        "import xgboost as xgb\n",
        "from sklearn.model_selection import GridSearchCV\n",
        "import numpy as np\n",
        "\n",
        "param_grid = {\n",
        "    'max_depth': [3, 4, 5, 8, 10],\n",
        "    'n_estimators': [50, 100, 200, 400, 600, 800, 1000],\n",
        "    'laerning_rate': [0.1, 0.2, 0.3],\n",
        "    'gamma': [0, 0.2],\n",
        "    'subsample': [0.8, 1],\n",
        "             }\n",
        "\n",
        "xgb_model = xgb.XGBClassifier()\n",
        "rgs = GridSearchCV(xgb_model, param_grid, n_jobs = -1, cv = 5)\n",
        "rgs.fit(x_train_resam, y_train_resam)\n",
        "print(rgs.best_score_)\n",
        "print(rgs.best_params_)\n",
        "pred = rgs.predict_proba(test)\n",
        "print('The logloss is ', logloss(Y_val, pred_bbc))\n",
        "'''"
      ],
      "execution_count": 0,
      "outputs": []
    },
    {
      "cell_type": "markdown",
      "metadata": {
        "id": "h1jCbIZRnpZL",
        "colab_type": "text"
      },
      "source": [
        "#### 用Python API"
      ]
    },
    {
      "cell_type": "code",
      "metadata": {
        "ExecuteTime": {
          "end_time": "2019-07-21T07:09:19.570205Z",
          "start_time": "2019-07-21T06:59:34.707298Z"
        },
        "id": "FRkQapL-npZM",
        "colab_type": "code",
        "colab": {}
      },
      "source": [
        "'''\n",
        "import xgboost as xgb\n",
        "\n",
        "dtrain = xgb.DMatrix(x_train_resam, label = y_train_resam)\n",
        "num_xgb = 500\n",
        "\n",
        "params = {\n",
        "    'booster': 'gbtree',\n",
        "    'eta': 0.2, \n",
        "    'eval_metric': 'logloss',\n",
        "    'tree method': 'auto',\n",
        "    'objective': 'binary:logistic'\n",
        "}\n",
        "\n",
        "bst = xgb.cv(params, dtrain, num_xgb, nfold = 5, verbose_eval = True)\n",
        "\n",
        "dtest = xgb.DMatrix(test)\n",
        "pred = bst.predict(dtest)\n",
        "print(logloss()\n",
        "'''"
      ],
      "execution_count": 0,
      "outputs": []
    },
    {
      "cell_type": "markdown",
      "metadata": {
        "id": "YQ04A29VnpZO",
        "colab_type": "text"
      },
      "source": [
        "### LightGBM"
      ]
    },
    {
      "cell_type": "code",
      "metadata": {
        "ExecuteTime": {
          "end_time": "2019-07-24T04:11:18.041458Z",
          "start_time": "2019-07-24T04:11:16.017193Z"
        },
        "id": "qv7qb5jHnpZP",
        "colab_type": "code",
        "colab": {}
      },
      "source": [
        "import pickle\n",
        "\n",
        "with open('lgb_values.pkl', 'rb') as f:\n",
        "    x_train_resam = pickle.load(f)\n",
        "    y_train_resam = pickle.load(f)\n",
        "    test = pickle.load(f)"
      ],
      "execution_count": 0,
      "outputs": []
    },
    {
      "cell_type": "code",
      "metadata": {
        "ExecuteTime": {
          "end_time": "2019-07-24T04:11:33.324117Z",
          "start_time": "2019-07-24T04:11:19.494478Z"
        },
        "id": "d_9Sg5bnnpZQ",
        "colab_type": "code",
        "colab": {}
      },
      "source": [
        "import lightgbm as lgb\n",
        "from sklearn.model_selection import train_test_split"
      ],
      "execution_count": 0,
      "outputs": []
    },
    {
      "cell_type": "code",
      "metadata": {
        "ExecuteTime": {
          "end_time": "2019-07-24T04:12:08.160932Z",
          "start_time": "2019-07-24T04:11:33.705366Z"
        },
        "id": "OBceXrJynpZT",
        "colab_type": "code",
        "colab": {}
      },
      "source": [
        "'''\n",
        "X_train, X_val, y_train, y_val = train_test_split(x_train_resam,\n",
        "                                                  y_train_resam,\n",
        "                                                  test_size=0.2)\n",
        "params = {\n",
        "    'boosting_type': 'gbdt',\n",
        "    'objective': 'binary',\n",
        "    'metric': 'binary_logloss',\n",
        "    'num_leaves': 3,\n",
        "    'max_depth': 10,\n",
        "    'min_data_in_leaf': 40,\n",
        "    'learning_rate': 0.5,\n",
        "    'feature_fraction': 0.8,\n",
        "    'bagging_fraction': 0.8,\n",
        "    'bagging_freq': 5,\n",
        "    'lambda_l2': 0.001,\n",
        "    'verbose': 1\n",
        "}\n",
        "\n",
        "lgb_train = lgb.Dataset(X_train, label=y_train)\n",
        "lgb_val = lgb.Dataset(X_val, y_val, reference=lgb_train)\n",
        "gbm = lgb.train(params,\n",
        "                lgb_train,\n",
        "                num_boost_round=2000,\n",
        "                verbose_eval=True,\n",
        "                valid_sets=lgb_val,\n",
        "                early_stopping_rounds=None)\n",
        "pred = gbm.predict(test, num_iteration=gbm.best_iteration)\n",
        "\n",
        "importance = gbm.feature_importance()\n",
        "names = gbm.feature_name()\n",
        "for idx, im in sorted(enumerate(importance), key=lambda x: x[1], reverse=True):\n",
        "    print('The score of {} is {}'.format(names[idx], im))"
      ],
      "execution_count": 0,
      "outputs": []
    },
    {
      "cell_type": "markdown",
      "metadata": {
        "id": "kLTvQPe0npZX",
        "colab_type": "text"
      },
      "source": [
        "### DeepFM"
      ]
    },
    {
      "cell_type": "code",
      "metadata": {
        "id": "G9njpJkwj6uB",
        "colab_type": "code",
        "colab": {}
      },
      "source": [
        "x_train_resam.drop('hometown', axis = 1, inplace = True)"
      ],
      "execution_count": 0,
      "outputs": []
    },
    {
      "cell_type": "code",
      "metadata": {
        "id": "KvHlmQnWpbvG",
        "colab_type": "code",
        "colab": {
          "base_uri": "https://localhost:8080/",
          "height": 224
        },
        "outputId": "92e0c36e-e9e6-4f45-eb4e-c14ae6b7736f"
      },
      "source": [
        "x_train_resam.head()"
      ],
      "execution_count": 27,
      "outputs": [
        {
          "output_type": "execute_result",
          "data": {
            "text/html": [
              "<div>\n",
              "<style scoped>\n",
              "    .dataframe tbody tr th:only-of-type {\n",
              "        vertical-align: middle;\n",
              "    }\n",
              "\n",
              "    .dataframe tbody tr th {\n",
              "        vertical-align: top;\n",
              "    }\n",
              "\n",
              "    .dataframe thead th {\n",
              "        text-align: right;\n",
              "    }\n",
              "</style>\n",
              "<table border=\"1\" class=\"dataframe\">\n",
              "  <thead>\n",
              "    <tr style=\"text-align: right;\">\n",
              "      <th></th>\n",
              "      <th>creativeID</th>\n",
              "      <th>userID</th>\n",
              "      <th>positionID</th>\n",
              "      <th>connectionType</th>\n",
              "      <th>telecomsOperator</th>\n",
              "      <th>adID</th>\n",
              "      <th>camgaignID</th>\n",
              "      <th>advertiserID</th>\n",
              "      <th>appID</th>\n",
              "      <th>appPlatform</th>\n",
              "      <th>click_day</th>\n",
              "      <th>click_min</th>\n",
              "      <th>click_hour</th>\n",
              "      <th>app_first_categories</th>\n",
              "      <th>app_second_categories</th>\n",
              "      <th>age</th>\n",
              "      <th>gender</th>\n",
              "      <th>education</th>\n",
              "      <th>marriageStatus</th>\n",
              "      <th>haveBaby</th>\n",
              "      <th>residence_province</th>\n",
              "      <th>residence_city</th>\n",
              "      <th>sitesetID</th>\n",
              "      <th>positionType</th>\n",
              "    </tr>\n",
              "  </thead>\n",
              "  <tbody>\n",
              "    <tr>\n",
              "      <th>0</th>\n",
              "      <td>1166</td>\n",
              "      <td>798666</td>\n",
              "      <td>7502</td>\n",
              "      <td>1</td>\n",
              "      <td>2</td>\n",
              "      <td>2985</td>\n",
              "      <td>6</td>\n",
              "      <td>80</td>\n",
              "      <td>14</td>\n",
              "      <td>2</td>\n",
              "      <td>26</td>\n",
              "      <td>33</td>\n",
              "      <td>0</td>\n",
              "      <td>2</td>\n",
              "      <td>0</td>\n",
              "      <td>0</td>\n",
              "      <td>1</td>\n",
              "      <td>0</td>\n",
              "      <td>2</td>\n",
              "      <td>0</td>\n",
              "      <td>26</td>\n",
              "      <td>1</td>\n",
              "      <td>0</td>\n",
              "      <td>1</td>\n",
              "    </tr>\n",
              "    <tr>\n",
              "      <th>1</th>\n",
              "      <td>58</td>\n",
              "      <td>1279663</td>\n",
              "      <td>7434</td>\n",
              "      <td>1</td>\n",
              "      <td>1</td>\n",
              "      <td>913</td>\n",
              "      <td>217</td>\n",
              "      <td>44</td>\n",
              "      <td>421</td>\n",
              "      <td>1</td>\n",
              "      <td>25</td>\n",
              "      <td>24</td>\n",
              "      <td>2</td>\n",
              "      <td>1</td>\n",
              "      <td>4</td>\n",
              "      <td>4</td>\n",
              "      <td>1</td>\n",
              "      <td>2</td>\n",
              "      <td>2</td>\n",
              "      <td>0</td>\n",
              "      <td>20</td>\n",
              "      <td>5</td>\n",
              "      <td>0</td>\n",
              "      <td>1</td>\n",
              "    </tr>\n",
              "    <tr>\n",
              "      <th>2</th>\n",
              "      <td>742</td>\n",
              "      <td>62544</td>\n",
              "      <td>7619</td>\n",
              "      <td>1</td>\n",
              "      <td>2</td>\n",
              "      <td>312</td>\n",
              "      <td>431</td>\n",
              "      <td>91</td>\n",
              "      <td>84</td>\n",
              "      <td>2</td>\n",
              "      <td>21</td>\n",
              "      <td>39</td>\n",
              "      <td>3</td>\n",
              "      <td>4</td>\n",
              "      <td>2</td>\n",
              "      <td>2</td>\n",
              "      <td>1</td>\n",
              "      <td>3</td>\n",
              "      <td>0</td>\n",
              "      <td>0</td>\n",
              "      <td>21</td>\n",
              "      <td>3</td>\n",
              "      <td>1</td>\n",
              "      <td>0</td>\n",
              "    </tr>\n",
              "    <tr>\n",
              "      <th>3</th>\n",
              "      <td>1465</td>\n",
              "      <td>1637212</td>\n",
              "      <td>7619</td>\n",
              "      <td>1</td>\n",
              "      <td>0</td>\n",
              "      <td>3141</td>\n",
              "      <td>277</td>\n",
              "      <td>74</td>\n",
              "      <td>100</td>\n",
              "      <td>2</td>\n",
              "      <td>26</td>\n",
              "      <td>24</td>\n",
              "      <td>0</td>\n",
              "      <td>3</td>\n",
              "      <td>1</td>\n",
              "      <td>2</td>\n",
              "      <td>2</td>\n",
              "      <td>4</td>\n",
              "      <td>1</td>\n",
              "      <td>0</td>\n",
              "      <td>33</td>\n",
              "      <td>1</td>\n",
              "      <td>1</td>\n",
              "      <td>0</td>\n",
              "    </tr>\n",
              "    <tr>\n",
              "      <th>4</th>\n",
              "      <td>32</td>\n",
              "      <td>838339</td>\n",
              "      <td>7052</td>\n",
              "      <td>1</td>\n",
              "      <td>2</td>\n",
              "      <td>34</td>\n",
              "      <td>85</td>\n",
              "      <td>80</td>\n",
              "      <td>14</td>\n",
              "      <td>2</td>\n",
              "      <td>26</td>\n",
              "      <td>1</td>\n",
              "      <td>2</td>\n",
              "      <td>2</td>\n",
              "      <td>0</td>\n",
              "      <td>1</td>\n",
              "      <td>2</td>\n",
              "      <td>0</td>\n",
              "      <td>0</td>\n",
              "      <td>1</td>\n",
              "      <td>21</td>\n",
              "      <td>3</td>\n",
              "      <td>0</td>\n",
              "      <td>1</td>\n",
              "    </tr>\n",
              "  </tbody>\n",
              "</table>\n",
              "</div>"
            ],
            "text/plain": [
              "   creativeID   userID  positionID  ...  residence_city  sitesetID  positionType\n",
              "0        1166   798666        7502  ...               1          0             1\n",
              "1          58  1279663        7434  ...               5          0             1\n",
              "2         742    62544        7619  ...               3          1             0\n",
              "3        1465  1637212        7619  ...               1          1             0\n",
              "4          32   838339        7052  ...               3          0             1\n",
              "\n",
              "[5 rows x 24 columns]"
            ]
          },
          "metadata": {
            "tags": []
          },
          "execution_count": 27
        }
      ]
    },
    {
      "cell_type": "code",
      "metadata": {
        "id": "oXoHnzzwfFsO",
        "colab_type": "code",
        "colab": {}
      },
      "source": [
        "from sklearn.preprocessing import LabelEncoder"
      ],
      "execution_count": 0,
      "outputs": []
    },
    {
      "cell_type": "code",
      "metadata": {
        "id": "rUqJbPXCeiTE",
        "colab_type": "code",
        "colab": {}
      },
      "source": [
        "le = LabelEncoder()\n",
        "\n",
        "x_train_resam_le = x_train_resam.copy()\n",
        "for col in x_train_resam.columns:\n",
        "    x_train_resam_le[col] = le.fit_transform(x_train_resam[col])"
      ],
      "execution_count": 0,
      "outputs": []
    },
    {
      "cell_type": "markdown",
      "metadata": {
        "id": "rCCXowbinpZY",
        "colab_type": "text"
      },
      "source": [
        "#### 加载数据"
      ]
    },
    {
      "cell_type": "code",
      "metadata": {
        "ExecuteTime": {
          "end_time": "2019-07-25T08:10:59.094214Z",
          "start_time": "2019-07-25T08:10:49.355145Z"
        },
        "id": "GknfFFyInpZZ",
        "colab_type": "code",
        "colab": {}
      },
      "source": [
        "import pickle\n",
        "\n",
        "with open('lgb_values.pkl', 'rb') as f:\n",
        "    x_train_resam = pickle.load(f)\n",
        "    y_train_resam = pickle.load(f)\n",
        "    test = pickle.load(f)"
      ],
      "execution_count": 0,
      "outputs": []
    },
    {
      "cell_type": "code",
      "metadata": {
        "ExecuteTime": {
          "end_time": "2019-07-25T08:31:01.555869Z",
          "start_time": "2019-07-25T08:31:01.546863Z"
        },
        "id": "K_wNNdkBnpZf",
        "colab_type": "code",
        "colab": {}
      },
      "source": [
        "x_train_resam.columns"
      ],
      "execution_count": 0,
      "outputs": []
    },
    {
      "cell_type": "markdown",
      "metadata": {
        "id": "-DWDi-k0npZi",
        "colab_type": "text"
      },
      "source": [
        "#### 处理数据"
      ]
    },
    {
      "cell_type": "code",
      "metadata": {
        "ExecuteTime": {
          "end_time": "2019-07-25T08:48:22.602682Z",
          "start_time": "2019-07-25T08:48:21.186968Z"
        },
        "id": "2_5OAmDmnpZj",
        "colab_type": "code",
        "colab": {}
      },
      "source": [
        "feature_dict = {}\n",
        "total_feature = 0\n",
        "\n",
        "for col in x_train_resam_le.columns:\n",
        "    unique_val = x_train_resam_le[col].unique()\n",
        "    feature_dict[col] = dict(zip(unique_val, range(total_feature, total_feature + len(unique_val))))\n",
        "    total_feature += len(unique_val)\n",
        "\n",
        "feature_value = x_train_resam_le.copy()\n",
        "feature_index = x_train_resam_le.copy()\n",
        "\n",
        "for col in x_train_resam_le.columns:\n",
        "    feature_value[col] = 1\n",
        "    feature_index[col] = feature_index[col].map(feature_dict[col])"
      ],
      "execution_count": 0,
      "outputs": []
    },
    {
      "cell_type": "markdown",
      "metadata": {
        "id": "aSQyfQnunpZm",
        "colab_type": "text"
      },
      "source": [
        "#### 定义参数"
      ]
    },
    {
      "cell_type": "code",
      "metadata": {
        "ExecuteTime": {
          "end_time": "2019-07-25T08:54:25.000025Z",
          "start_time": "2019-07-25T08:54:24.735844Z"
        },
        "id": "JMtzmKuCnpZn",
        "colab_type": "code",
        "colab": {}
      },
      "source": [
        "import tensorflow as tf\n",
        "import numpy as np\n",
        "import pandas as pd\n",
        "\n",
        "dfm_params = {\n",
        "    'use_fm': True,\n",
        "    'use_deep': True,\n",
        "    'embedding_size': 8,\n",
        "    'dropout_fm': [1.0, 1.0],\n",
        "    'deep_layers': [32, 32],\n",
        "    'dropout_deep': [0.5, 0.5, 0.5],\n",
        "    'deep_layer_activation': tf.nn.relu,\n",
        "    'opoch': 30,\n",
        "    'bach_size': 1024,\n",
        "    'learning_rate': 0.001,\n",
        "    'optimizer': 'adam',\n",
        "    'batch_norm_dacay': 0.995,\n",
        "    'l2_reg': 0.01,\n",
        "    'verbose': True,\n",
        "    'eval_metric': 'logloss',\n",
        "    'random_seed': 100\n",
        "}\n",
        "dfm_params['feature_size'] = total_feature\n",
        "dfm_params['field_size'] = len(x_train_resam.columns)\n",
        "\n",
        "with tf.device('/gpu:0'):\n",
        "    feat_index = tf.placeholder(tf.int32, shape = [None, None], name = 'feat_index')\n",
        "    feat_value = tf.placeholder(tf.float32, shape = [None, None], name = 'feat_value')\n",
        "\n",
        "    label = tf.placeholder(tf.float32, shape = [None, 1], name = 'label')\n",
        "\n",
        "    weights = dict()\n",
        "\n",
        "    ##embeddings\n",
        "    weights['feature_embeddings'] = tf.Variable(\n",
        "        tf.random_normal([dfm_params['feature_size'], dfm_params['embedding_size']], 0.0, 0.01), name = 'feature_embeddings')\n",
        "    weights['feature_bias'] = tf.Variable(\n",
        "        tf.random_normal([dfm_params['feature_size'], 1], 0.0, 0.01), name = 'feature_bias')###weights[''feature_bias]是一次项的权重\n",
        "\n",
        "    ##deep layers\n",
        "    num_layer = len(dfm_params['deep_layers'])\n",
        "    input_size = dfm_params['field_size'] * dfm_params['embedding_size']\n",
        "    glorot = np.sqrt(2.0 / (input_size + dfm_params['deep_layers'][0]))\n",
        "\n",
        "    weights['layer_0'] = tf.Variable(\n",
        "        np.random.normal(loc = 0, scale = glorot, size = (input_size, dfm_params['deep_layers'][0])), dtype = np.float32)\n",
        "    weights['bias_0'] = tf.Variable(\n",
        "        np.random.normal(loc = 0, scale = glorot, size = (1, dfm_params['deep_layers'][0])), dtype = np.float32)\n",
        "\n",
        "    for i in range(1, num_layer):\n",
        "        glorot = np.sqrt(2.0 / (dfm_params['deep_layers'][i - 1] + dfm_params['deep_layers'][i]))\n",
        "        weights['layer_%d'%(i)] = tf.Variable(\n",
        "            np.random.normal(loc = 0, scale = glorot, size = (dfm_params['deep_layers'][i - 1], dfm_params['deep_layers'][i])), dtype = np.float32)\n",
        "        weights['bias_%d'%(i)] = tf.Variable(\n",
        "            np.random.normal(loc = 0, scale = glorot, size = (1, dfm_params['deep_layers'][i])), dtype = np.float32)\n",
        "\n",
        "    ##concat layer\n",
        "    if dfm_params['use_fm'] and dfm_params['use_deep']:\n",
        "        input_size = dfm_params['field_size'] + dfm_params['embedding_size'] + dfm_params['deep_layers'][-1]\n",
        "    elif dfm_params['use_fm']:\n",
        "        input_size = dfm_params['field_size'] + dfm_params['embedding_size']\n",
        "    else:    \n",
        "        input_size = dfm_params['deep_layers'][-1]\n",
        "\n",
        "    glorot = np.sqrt(2.0 / (input_size + 1))\n",
        "    weights['concat_projection'] = tf.Variable(np.random.normal(loc = 0, scale = glorot, size = [input_size, 1]), dtype = np.float32)\n",
        "    weights['concat_bias'] = tf.Variable(tf.constant(0.01), dtype = np.float32)"
      ],
      "execution_count": 0,
      "outputs": []
    },
    {
      "cell_type": "markdown",
      "metadata": {
        "id": "lymrsCy_npZy",
        "colab_type": "text"
      },
      "source": [
        "#### 构造模型"
      ]
    },
    {
      "cell_type": "code",
      "metadata": {
        "id": "dHe5rPeLnpZy",
        "colab_type": "code",
        "colab": {
          "base_uri": "https://localhost:8080/",
          "height": 127
        },
        "outputId": "5501dc9a-bdbd-491a-a6a5-fd8f04313b9a"
      },
      "source": [
        "with tf.device('/gpu:0'):\n",
        "##embeddings\n",
        "    embeddings = tf.nn.embedding_lookup(weights['feature_embeddings'], feat_index)\n",
        "    reshaped_feat_value = tf.reshape(feat_value, shape = [-1, dfm_params['field_size'], 1])\n",
        "    print(reshaped_feat_value)\n",
        "    embeddings = tf.multiply(embeddings, reshaped_feat_value)\n",
        "\n",
        "    ##fm\n",
        "    fm_first_order = tf.nn.embedding_lookup(weights['feature_bias'], feat_index)\n",
        "    fm_first_order = tf.reduce_sum(tf.multiply(fm_first_order, reshaped_feat_value), 2)\n",
        "\n",
        "    summed_features_emb = tf.reduce_sum(embeddings, 1)\n",
        "    summed_features_emb_square = tf.square(summed_features_emb)\n",
        "\n",
        "    squared_features_emb = tf.square(embeddings)\n",
        "    squared_features_emb_sum = tf.reduce_sum(squared_features_emb, 1)\n",
        "\n",
        "    fm_second_order = 0.5 * tf.subtract(summed_features_emb_square, squared_features_emb_sum)\n",
        "\n",
        "    ##deep\n",
        "    y_deep = tf.reshape(embeddings, \n",
        "                        shape = [-1, dfm_params['field_size'] * dfm_params['embedding_size']])\n",
        "\n",
        "    for i in range(len(dfm_params['deep_layers'])):\n",
        "        y_deep = tf.add(tf.matmul(y_deep, weights['layer_%d'%(i)]), weights['bias_%d'%(i)])\n",
        "        y_deep = tf.nn.relu(y_deep)\n",
        "\n",
        "    ##final layer\n",
        "    if dfm_params['use_fm'] and dfm_params['use_deep']:\n",
        "        concat_input = tf.concat([fm_first_order, fm_second_order, y_deep], axis = 1)\n",
        "    elif dfm_params['use_fm']:\n",
        "        concat_input = tf.concat([fm_first_order, fm_second_order], axis = 1)\n",
        "    else:\n",
        "        concat_input = y_deep\n",
        "\n",
        "    out = tf.nn.sigmoid(tf.add(tf.matmul(concat_input, \n",
        "                                         weights['concat_projection']), weights['concat_bias']))\n",
        "\n",
        "    loss = tf.losses.log_loss(tf.reshape(label, (-1,1)), out)\n",
        "    optimizer = tf.train.AdamOptimizer(learning_rate = dfm_params['learning_rate'], \n",
        "                                       beta1 = 0.9, beta2 = 0.999, epsilon = 1e-8).minimize(loss)"
      ],
      "execution_count": 36,
      "outputs": [
        {
          "output_type": "stream",
          "text": [
            "WARNING: Logging before flag parsing goes to stderr.\n",
            "W0817 12:59:21.914329 140527914383232 deprecation.py:323] From /usr/local/lib/python3.6/dist-packages/tensorflow/python/ops/losses/losses_impl.py:121: add_dispatch_support.<locals>.wrapper (from tensorflow.python.ops.array_ops) is deprecated and will be removed in a future version.\n",
            "Instructions for updating:\n",
            "Use tf.where in 2.0, which has the same broadcast rule as np.where\n"
          ],
          "name": "stderr"
        },
        {
          "output_type": "stream",
          "text": [
            "Tensor(\"Reshape:0\", shape=(?, 24, 1), dtype=float32, device=/device:GPU:0)\n"
          ],
          "name": "stdout"
        }
      ]
    },
    {
      "cell_type": "markdown",
      "metadata": {
        "id": "A_krAB_znpZ0",
        "colab_type": "text"
      },
      "source": [
        "#### 训练模型"
      ]
    },
    {
      "cell_type": "code",
      "metadata": {
        "id": "M4aK7ffCnpZ0",
        "colab_type": "code",
        "colab": {
          "base_uri": "https://localhost:8080/",
          "height": 1000
        },
        "outputId": "0e786900-5e95-41a5-dd88-60b5a9edbafa"
      },
      "source": [
        "with tf.Session(config = tf.ConfigProto(log_device_placement = True)) as sess:\n",
        "    sess.run(tf.global_variables_initializer())\n",
        "    for i in range(200):\n",
        "        epoch_loss,_ =sess.run([loss, optimizer], feed_dict = {feat_index: feature_index, feat_value: feature_value, label: y_train_resam})\n",
        "        print('epoch%s ,loss is %s'%(str(i), str(epoch_loss)))"
      ],
      "execution_count": 37,
      "outputs": [
        {
          "output_type": "stream",
          "text": [
            "epoch0 ,loss is 0.6929392\n",
            "epoch1 ,loss is 0.69185615\n",
            "epoch2 ,loss is 0.6907495\n",
            "epoch3 ,loss is 0.6895949\n",
            "epoch4 ,loss is 0.6883683\n",
            "epoch5 ,loss is 0.68705136\n",
            "epoch6 ,loss is 0.6856307\n",
            "epoch7 ,loss is 0.68409324\n",
            "epoch8 ,loss is 0.6824249\n",
            "epoch9 ,loss is 0.6806135\n",
            "epoch10 ,loss is 0.6786515\n",
            "epoch11 ,loss is 0.6765321\n",
            "epoch12 ,loss is 0.6742456\n",
            "epoch13 ,loss is 0.67178434\n",
            "epoch14 ,loss is 0.6691486\n",
            "epoch15 ,loss is 0.6663552\n",
            "epoch16 ,loss is 0.66344017\n",
            "epoch17 ,loss is 0.66045135\n",
            "epoch18 ,loss is 0.6574107\n",
            "epoch19 ,loss is 0.65431\n",
            "epoch20 ,loss is 0.65113974\n",
            "epoch21 ,loss is 0.64789015\n",
            "epoch22 ,loss is 0.64453524\n",
            "epoch23 ,loss is 0.6410576\n",
            "epoch24 ,loss is 0.63746524\n",
            "epoch25 ,loss is 0.6337595\n",
            "epoch26 ,loss is 0.6299179\n",
            "epoch27 ,loss is 0.62591314\n",
            "epoch28 ,loss is 0.6217235\n",
            "epoch29 ,loss is 0.61733264\n",
            "epoch30 ,loss is 0.61273307\n",
            "epoch31 ,loss is 0.60791594\n",
            "epoch32 ,loss is 0.60286343\n",
            "epoch33 ,loss is 0.5975561\n",
            "epoch34 ,loss is 0.59198254\n",
            "epoch35 ,loss is 0.58613145\n",
            "epoch36 ,loss is 0.57999784\n",
            "epoch37 ,loss is 0.5736023\n",
            "epoch38 ,loss is 0.5669668\n",
            "epoch39 ,loss is 0.56009406\n",
            "epoch40 ,loss is 0.5529521\n",
            "epoch41 ,loss is 0.5455111\n",
            "epoch42 ,loss is 0.53780234\n",
            "epoch43 ,loss is 0.52994287\n",
            "epoch44 ,loss is 0.5220046\n",
            "epoch45 ,loss is 0.51394475\n",
            "epoch46 ,loss is 0.50572526\n",
            "epoch47 ,loss is 0.4973369\n",
            "epoch48 ,loss is 0.48878127\n",
            "epoch49 ,loss is 0.48006502\n",
            "epoch50 ,loss is 0.47119457\n",
            "epoch51 ,loss is 0.4621777\n",
            "epoch52 ,loss is 0.4530306\n",
            "epoch53 ,loss is 0.44377542\n",
            "epoch54 ,loss is 0.43443245\n",
            "epoch55 ,loss is 0.42501932\n",
            "epoch56 ,loss is 0.4155511\n",
            "epoch57 ,loss is 0.40603706\n",
            "epoch58 ,loss is 0.39648095\n",
            "epoch59 ,loss is 0.3868822\n",
            "epoch60 ,loss is 0.37723815\n",
            "epoch61 ,loss is 0.3675515\n",
            "epoch62 ,loss is 0.35783204\n",
            "epoch63 ,loss is 0.3480885\n",
            "epoch64 ,loss is 0.33832628\n",
            "epoch65 ,loss is 0.32854652\n",
            "epoch66 ,loss is 0.31874755\n",
            "epoch67 ,loss is 0.3089252\n",
            "epoch68 ,loss is 0.29907408\n",
            "epoch69 ,loss is 0.28919595\n",
            "epoch70 ,loss is 0.27930143\n",
            "epoch71 ,loss is 0.2694125\n",
            "epoch72 ,loss is 0.25955904\n",
            "epoch73 ,loss is 0.24977273\n",
            "epoch74 ,loss is 0.24008034\n",
            "epoch75 ,loss is 0.23049422\n",
            "epoch76 ,loss is 0.2210189\n",
            "epoch77 ,loss is 0.2116623\n",
            "epoch78 ,loss is 0.20243838\n",
            "epoch79 ,loss is 0.19336538\n",
            "epoch80 ,loss is 0.18446332\n",
            "epoch81 ,loss is 0.17575355\n",
            "epoch82 ,loss is 0.16725732\n",
            "epoch83 ,loss is 0.15899521\n",
            "epoch84 ,loss is 0.15098654\n",
            "epoch85 ,loss is 0.14324848\n",
            "epoch86 ,loss is 0.13579518\n",
            "epoch87 ,loss is 0.12863848\n",
            "epoch88 ,loss is 0.12178801\n",
            "epoch89 ,loss is 0.115250975\n",
            "epoch90 ,loss is 0.109032154\n",
            "epoch91 ,loss is 0.10313363\n",
            "epoch92 ,loss is 0.09755496\n",
            "epoch93 ,loss is 0.09229321\n",
            "epoch94 ,loss is 0.0873429\n",
            "epoch95 ,loss is 0.0826965\n",
            "epoch96 ,loss is 0.07834459\n",
            "epoch97 ,loss is 0.07427637\n",
            "epoch98 ,loss is 0.070479855\n",
            "epoch99 ,loss is 0.066942304\n",
            "epoch100 ,loss is 0.06365051\n",
            "epoch101 ,loss is 0.060591083\n",
            "epoch102 ,loss is 0.05775056\n",
            "epoch103 ,loss is 0.05511552\n",
            "epoch104 ,loss is 0.052672658\n",
            "epoch105 ,loss is 0.05040905\n",
            "epoch106 ,loss is 0.04831205\n",
            "epoch107 ,loss is 0.046369556\n",
            "epoch108 ,loss is 0.044570234\n",
            "epoch109 ,loss is 0.042903423\n",
            "epoch110 ,loss is 0.04135926\n",
            "epoch111 ,loss is 0.03992854\n",
            "epoch112 ,loss is 0.03860268\n",
            "epoch113 ,loss is 0.037373535\n",
            "epoch114 ,loss is 0.03623356\n",
            "epoch115 ,loss is 0.035175655\n",
            "epoch116 ,loss is 0.03419324\n",
            "epoch117 ,loss is 0.033280265\n",
            "epoch118 ,loss is 0.032431126\n",
            "epoch119 ,loss is 0.03164068\n",
            "epoch120 ,loss is 0.030904185\n",
            "epoch121 ,loss is 0.03021726\n",
            "epoch122 ,loss is 0.029575959\n",
            "epoch123 ,loss is 0.028976569\n",
            "epoch124 ,loss is 0.028415758\n",
            "epoch125 ,loss is 0.027890448\n",
            "epoch126 ,loss is 0.027397834\n",
            "epoch127 ,loss is 0.026935343\n",
            "epoch128 ,loss is 0.02650061\n",
            "epoch129 ,loss is 0.026091492\n",
            "epoch130 ,loss is 0.025705999\n",
            "epoch131 ,loss is 0.025342338\n",
            "epoch132 ,loss is 0.024998851\n",
            "epoch133 ,loss is 0.02467403\n",
            "epoch134 ,loss is 0.024366498\n",
            "epoch135 ,loss is 0.024074975\n",
            "epoch136 ,loss is 0.023798306\n",
            "epoch137 ,loss is 0.023535414\n",
            "epoch138 ,loss is 0.023285316\n",
            "epoch139 ,loss is 0.023047116\n",
            "epoch140 ,loss is 0.022819988\n",
            "epoch141 ,loss is 0.022603184\n",
            "epoch142 ,loss is 0.022396006\n",
            "epoch143 ,loss is 0.022197818\n",
            "epoch144 ,loss is 0.022008035\n",
            "epoch145 ,loss is 0.02182613\n",
            "epoch146 ,loss is 0.021651601\n",
            "epoch147 ,loss is 0.021484002\n",
            "epoch148 ,loss is 0.02132291\n",
            "epoch149 ,loss is 0.021167928\n",
            "epoch150 ,loss is 0.021018704\n",
            "epoch151 ,loss is 0.020874897\n",
            "epoch152 ,loss is 0.020736206\n",
            "epoch153 ,loss is 0.020602332\n",
            "epoch154 ,loss is 0.02047302\n",
            "epoch155 ,loss is 0.020348005\n",
            "epoch156 ,loss is 0.020227065\n",
            "epoch157 ,loss is 0.020109981\n",
            "epoch158 ,loss is 0.019996556\n",
            "epoch159 ,loss is 0.019886592\n",
            "epoch160 ,loss is 0.019779924\n",
            "epoch161 ,loss is 0.01967639\n",
            "epoch162 ,loss is 0.019575832\n",
            "epoch163 ,loss is 0.019478112\n",
            "epoch164 ,loss is 0.019383097\n",
            "epoch165 ,loss is 0.019290661\n",
            "epoch166 ,loss is 0.019200694\n",
            "epoch167 ,loss is 0.01911308\n",
            "epoch168 ,loss is 0.01902772\n",
            "epoch169 ,loss is 0.018944513\n",
            "epoch170 ,loss is 0.01886337\n",
            "epoch171 ,loss is 0.018784204\n",
            "epoch172 ,loss is 0.018706936\n",
            "epoch173 ,loss is 0.018631486\n",
            "epoch174 ,loss is 0.018557789\n",
            "epoch175 ,loss is 0.018485771\n",
            "epoch176 ,loss is 0.01841537\n",
            "epoch177 ,loss is 0.018346524\n",
            "epoch178 ,loss is 0.01827918\n",
            "epoch179 ,loss is 0.018213278\n",
            "epoch180 ,loss is 0.018148772\n",
            "epoch181 ,loss is 0.018085608\n",
            "epoch182 ,loss is 0.018023744\n",
            "epoch183 ,loss is 0.017963136\n",
            "epoch184 ,loss is 0.017903736\n",
            "epoch185 ,loss is 0.017845511\n",
            "epoch186 ,loss is 0.01778842\n",
            "epoch187 ,loss is 0.017732425\n",
            "epoch188 ,loss is 0.017677497\n",
            "epoch189 ,loss is 0.017623596\n",
            "epoch190 ,loss is 0.017570693\n",
            "epoch191 ,loss is 0.01751876\n",
            "epoch192 ,loss is 0.017467769\n",
            "epoch193 ,loss is 0.017417688\n",
            "epoch194 ,loss is 0.017368495\n",
            "epoch195 ,loss is 0.017320158\n",
            "epoch196 ,loss is 0.017272662\n",
            "epoch197 ,loss is 0.017225979\n",
            "epoch198 ,loss is 0.017180087\n",
            "epoch199 ,loss is 0.017134963\n"
          ],
          "name": "stdout"
        }
      ]
    }
  ]
}